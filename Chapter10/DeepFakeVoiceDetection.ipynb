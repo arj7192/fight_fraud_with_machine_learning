{
 "cells": [
  {
   "cell_type": "code",
   "execution_count": 1,
   "id": "370d662c",
   "metadata": {},
   "outputs": [
    {
     "data": {
      "text/html": [
       "<style>.container { width:100% !important; }</style>"
      ],
      "text/plain": [
       "<IPython.core.display.HTML object>"
      ]
     },
     "metadata": {},
     "output_type": "display_data"
    }
   ],
   "source": [
    "from IPython.display import display, HTML\n",
    "display(HTML(\"<style>.container { width:100% !important; }</style>\"))"
   ]
  },
  {
   "cell_type": "markdown",
   "id": "84b28e3b",
   "metadata": {},
   "source": [
    "## install libs"
   ]
  },
  {
   "cell_type": "code",
   "execution_count": 3,
   "id": "23b9c84d",
   "metadata": {
    "scrolled": true
   },
   "outputs": [
    {
     "name": "stdout",
     "output_type": "stream",
     "text": [
      "Collecting torch==2.2.0\n",
      "  Using cached torch-2.2.0-cp312-none-macosx_11_0_arm64.whl.metadata (25 kB)\n",
      "Collecting torchaudio==2.4.0\n",
      "  Using cached torchaudio-2.4.0-cp312-cp312-macosx_11_0_arm64.whl.metadata (6.4 kB)\n",
      "Requirement already satisfied: captum==0.7.0 in /opt/anaconda3/lib/python3.12/site-packages (0.7.0)\n",
      "Collecting matplotlib==3.7.2\n",
      "  Using cached matplotlib-3.7.2.tar.gz (38.1 MB)\n",
      "  Installing build dependencies ... \u001b[?25ldone\n",
      "\u001b[?25h  Getting requirements to build wheel ... \u001b[?25ldone\n",
      "\u001b[?25h  Preparing metadata (pyproject.toml) ... \u001b[?25ldone\n",
      "\u001b[?25hRequirement already satisfied: filelock in /opt/anaconda3/lib/python3.12/site-packages (from torch==2.2.0) (3.16.1)\n",
      "Requirement already satisfied: typing-extensions>=4.8.0 in /opt/anaconda3/lib/python3.12/site-packages (from torch==2.2.0) (4.11.0)\n",
      "Requirement already satisfied: sympy in /opt/anaconda3/lib/python3.12/site-packages (from torch==2.2.0) (1.13.1)\n",
      "Requirement already satisfied: networkx in /opt/anaconda3/lib/python3.12/site-packages (from torch==2.2.0) (3.3)\n",
      "Requirement already satisfied: jinja2 in /opt/anaconda3/lib/python3.12/site-packages (from torch==2.2.0) (3.1.4)\n",
      "Requirement already satisfied: fsspec in /opt/anaconda3/lib/python3.12/site-packages (from torch==2.2.0) (2024.6.1)\n",
      "INFO: pip is looking at multiple versions of torchaudio to determine which version is compatible with other requirements. This could take a while.\n",
      "\u001b[31mERROR: Cannot install torch==2.2.0 and torchaudio==2.4.0 because these package versions have conflicting dependencies.\u001b[0m\u001b[31m\n",
      "\u001b[0m\n",
      "The conflict is caused by:\n",
      "    The user requested torch==2.2.0\n",
      "    torchaudio 2.4.0 depends on torch==2.4.0\n",
      "\n",
      "To fix this you could try to:\n",
      "1. loosen the range of package versions you've specified\n",
      "2. remove package versions to allow pip to attempt to solve the dependency conflict\n",
      "\n",
      "\u001b[31mERROR: ResolutionImpossible: for help visit https://pip.pypa.io/en/latest/topics/dependency-resolution/#dealing-with-dependency-conflicts\u001b[0m\u001b[31m\n",
      "\u001b[0mNote: you may need to restart the kernel to use updated packages.\n"
     ]
    }
   ],
   "source": [
    "pip install torch==2.2.0 torchaudio==2.4.0 captum==0.7.0 matplotlib==3.7.2 torchview==0.2.6 graphviz==0.20.3"
   ]
  },
  {
   "cell_type": "code",
   "execution_count": 270,
   "id": "38e7da1f-1664-431d-89ca-c84fa38fe6db",
   "metadata": {},
   "outputs": [],
   "source": [
    "#!brew install -y graphviz"
   ]
  },
  {
   "cell_type": "markdown",
   "id": "9c65e7c3",
   "metadata": {},
   "source": [
    "## imports"
   ]
  },
  {
   "cell_type": "code",
   "execution_count": 5,
   "id": "ed8aeecb",
   "metadata": {},
   "outputs": [],
   "source": [
    "import os\n",
    "import math\n",
    "import matplotlib.pyplot as plt\n",
    "\n",
    "import torch\n",
    "import torch.nn as nn\n",
    "\n",
    "import torchaudio\n",
    "import torchaudio.transforms as transforms\n",
    "from torch.utils.data import Dataset, DataLoader"
   ]
  },
  {
   "cell_type": "markdown",
   "id": "1e3bfae3",
   "metadata": {},
   "source": [
    "## set randomness seed for reproducibility"
   ]
  },
  {
   "cell_type": "code",
   "execution_count": 7,
   "id": "d833f882",
   "metadata": {},
   "outputs": [
    {
     "data": {
      "text/plain": [
       "<torch._C.Generator at 0x1394bdef0>"
      ]
     },
     "execution_count": 7,
     "metadata": {},
     "output_type": "execute_result"
    }
   ],
   "source": [
    "torch.manual_seed(101)"
   ]
  },
  {
   "cell_type": "markdown",
   "id": "69136d2c",
   "metadata": {},
   "source": [
    "## define dataset object"
   ]
  },
  {
   "cell_type": "code",
   "execution_count": 9,
   "id": "660ef1e9",
   "metadata": {},
   "outputs": [],
   "source": [
    "# Custom Dataset class to handle audio loading and MFCC extraction\n",
    "class AudioDataset(Dataset):\n",
    "    def __init__(self, root_dir, transform=None):\n",
    "        self.root_dir = root_dir\n",
    "        self.transform = transform\n",
    "        self.classes = ['real', 'fake']\n",
    "        self.data = []\n",
    "        for label in self.classes:\n",
    "            class_dir = os.path.join(root_dir, label)\n",
    "            for file_name in os.listdir(class_dir):\n",
    "                if file_name.endswith(\".wav\"):\n",
    "                    file_path = os.path.join(class_dir, file_name)\n",
    "                    self.data.append((file_path, label))\n",
    "\n",
    "    def __len__(self):\n",
    "        return len(self.data)\n",
    "\n",
    "    def __getitem__(self, idx):\n",
    "        file_path, label = self.data[idx]\n",
    "        waveform, sample_rate = torchaudio.load(file_path)\n",
    "        if self.transform:\n",
    "            mfcc = self.transform(waveform)  # MFCC extraction\n",
    "        label = self.classes.index(label)  # Convert label to integer (0 or 1)\n",
    "        return mfcc.transpose(1, 2).squeeze(), label  # Transpose to [n_mels, time_steps] -> [time_steps, n_mels]"
   ]
  },
  {
   "cell_type": "markdown",
   "id": "61ba4bd6",
   "metadata": {},
   "source": [
    "## define model (transformer) architecture"
   ]
  },
  {
   "cell_type": "code",
   "execution_count": 308,
   "id": "c99587eb",
   "metadata": {},
   "outputs": [],
   "source": [
    "class AudioTransformer(nn.Module):\n",
    "    def __init__(self, n_mels, n_classes=2, nhead=1, num_encoder_layers=1, dim_feedforward=64, dropout=0.1):\n",
    "        super(AudioTransformer, self).__init__()\n",
    "        \n",
    "        self.n_mels = n_mels\n",
    "        self.positional_encoding = nn.Parameter(self.create_positional_encoding(1000, n_mels), requires_grad=False)\n",
    "        \n",
    "        encoder_layer = nn.TransformerEncoderLayer(\n",
    "            d_model=n_mels, \n",
    "            nhead=nhead, \n",
    "            dim_feedforward=dim_feedforward, \n",
    "            dropout=dropout\n",
    "        )\n",
    "        \n",
    "        self.transformer_encoder = nn.TransformerEncoder(encoder_layer, num_layers=num_encoder_layers)\n",
    "        \n",
    "        self.fc = nn.Linear(n_mels, n_classes)\n",
    "\n",
    "    def create_positional_encoding(self, length, dim):\n",
    "        pe = torch.zeros(length, dim)\n",
    "        position = torch.arange(0, length, dtype=torch.float).unsqueeze(1)\n",
    "        div_term = torch.exp(torch.arange(0, dim, 2).float() * (-math.log(10000.0) / dim))\n",
    "        pe[:, 0::2] = torch.sin(position * div_term)\n",
    "        pe[:, 1::2] = torch.cos(position * div_term)\n",
    "        return pe.unsqueeze(0)\n",
    "\n",
    "    def forward(self, x):\n",
    "        # Dynamically resize positional encoding to match input length\n",
    "        seq_length = x.size(1)\n",
    "        x = x + self.positional_encoding[:, :seq_length, :].to(x.device)\n",
    "        \n",
    "        # Pass through the transformer encoder\n",
    "        x = self.transformer_encoder(x)\n",
    "        \n",
    "        # Global average pooling\n",
    "        x = x.mean(dim=1)\n",
    "        \n",
    "        # Classification layer\n",
    "        x = self.fc(x)\n",
    "        \n",
    "        return x"
   ]
  },
  {
   "cell_type": "markdown",
   "id": "38559a13-4eb7-43a5-9ec6-95065ddd84f5",
   "metadata": {},
   "source": [
    "#### number of parameters in the model"
   ]
  },
  {
   "cell_type": "code",
   "execution_count": 310,
   "id": "b87c5f7d",
   "metadata": {},
   "outputs": [
    {
     "name": "stdout",
     "output_type": "stream",
     "text": [
      "num_parameters: 413\n"
     ]
    },
    {
     "name": "stderr",
     "output_type": "stream",
     "text": [
      "/opt/anaconda3/lib/python3.12/site-packages/torch/nn/modules/transformer.py:379: UserWarning: enable_nested_tensor is True, but self.use_nested_tensor is False because encoder_layer.self_attn.batch_first was not True(use batch_first for better inference performance)\n",
      "  warnings.warn(\n"
     ]
    }
   ],
   "source": [
    "device = torch.device('cuda' if torch.cuda.is_available() else 'cpu')\n",
    "model = AudioTransformer(n_mels=N_MFCC, n_classes=2).to(device)\n",
    "print(\"num_parameters:\", sum([len(x) for x in model.parameters()]))"
   ]
  },
  {
   "cell_type": "markdown",
   "id": "3461302f",
   "metadata": {},
   "source": [
    "## load and transform datasets (train, validation, and test sets)"
   ]
  },
  {
   "cell_type": "markdown",
   "id": "08831603-c788-481c-bf3b-efa55a602aed",
   "metadata": {},
   "source": [
    "#### check waveform shape"
   ]
  },
  {
   "cell_type": "code",
   "execution_count": 74,
   "id": "b2d733da-0b5a-4505-8da8-bf8ff245d9e1",
   "metadata": {},
   "outputs": [],
   "source": [
    "waveform, sample_rate = torchaudio.load('for-2seconds/training/fake/file10005.mp3.wav_16k.wav_norm.wav_mono.wav_silence.wav_2sec.wav')"
   ]
  },
  {
   "cell_type": "code",
   "execution_count": 292,
   "id": "dd3007bc-8b7f-4eff-832b-b731f433ab72",
   "metadata": {},
   "outputs": [
    {
     "name": "stdout",
     "output_type": "stream",
     "text": [
      "torch.Size([1, 32000]) 16000\n"
     ]
    }
   ],
   "source": [
    "print(waveform.shape, sample_rate)"
   ]
  },
  {
   "cell_type": "markdown",
   "id": "f0773ecd-4db9-42ab-ba92-d5133e7c3a6d",
   "metadata": {},
   "source": [
    "### create train validation and test dataset and dataloader objects"
   ]
  },
  {
   "cell_type": "code",
   "execution_count": 14,
   "id": "3f3b1ab2",
   "metadata": {},
   "outputs": [],
   "source": [
    "melkwargs = {\"hop_length\": 200, \"n_mels\": 20}\n",
    "# Transform: Extract MFCC features\n",
    "N_MFCC=20\n",
    "transform = transforms.MFCC(\n",
    "    sample_rate=16000, \n",
    "    n_mfcc=N_MFCC,         # Number of MFCC coefficients (matches your transformer's d_model)\n",
    "    melkwargs=melkwargs\n",
    ")\n",
    "\n",
    "\n",
    "train_dataset = AudioDataset(root_dir='/Users/ashish/Downloads/for-2seconds/training/', transform=transform)\n",
    "train_loader = DataLoader(train_dataset, batch_size=32, shuffle=True)\n",
    "\n",
    "val_dataset = AudioDataset(root_dir='/Users/ashish/Downloads/for-2seconds/validation/', transform=transform)\n",
    "val_loader = DataLoader(val_dataset, batch_size=32, shuffle=False)\n",
    "\n",
    "test_dataset = AudioDataset(root_dir='/Users/ashish/Downloads/for-2seconds/testing', transform=transform)\n",
    "test_loader = DataLoader(test_dataset, batch_size=32, shuffle=False)"
   ]
  },
  {
   "cell_type": "markdown",
   "id": "bec5c15d",
   "metadata": {},
   "source": [
    "## visualize data samples"
   ]
  },
  {
   "cell_type": "markdown",
   "id": "b7f62280-ceaa-4f80-96cd-5db30e372fec",
   "metadata": {},
   "source": [
    "#### check shape of a single data sample"
   ]
  },
  {
   "cell_type": "code",
   "execution_count": 102,
   "id": "bb490b9c",
   "metadata": {},
   "outputs": [
    {
     "name": "stdout",
     "output_type": "stream",
     "text": [
      "torch.Size([161, 20])\n"
     ]
    }
   ],
   "source": [
    "data_sample = train_dataset[0]\n",
    "print(data_sample[0].shape)"
   ]
  },
  {
   "cell_type": "markdown",
   "id": "259a9383-50e6-413e-af30-d691631b0788",
   "metadata": {},
   "source": [
    "#### plot MFCCs"
   ]
  },
  {
   "cell_type": "code",
   "execution_count": 112,
   "id": "9cbc622d-c42f-4927-9bec-d3e633e93ff1",
   "metadata": {},
   "outputs": [
    {
     "data": {
      "image/png": "[encoded data removed]",
      "text/plain": [
       "<Figure size 1200x1000 with 1 Axes>"
      ]
     },
     "metadata": {},
     "output_type": "display_data"
    },
    {
     "data": {
      "image/png": "[encoded data removed]",
      "text/plain": [
       "<Figure size 1200x1000 with 1 Axes>"
      ]
     },
     "metadata": {},
     "output_type": "display_data"
    }
   ],
   "source": [
    "for idx in [0, -1]: # pick the first and the last sample of training data\n",
    "    plt.figure(figsize = (12,10))\n",
    "    plt.imshow(train_dataset[idx][0].T);\n",
    "    plt.title({0: \"real\", 1: \"fake\"}.get(train_dataset[idx][1]))"
   ]
  },
  {
   "cell_type": "markdown",
   "id": "a2350775-4abb-45cd-9afc-8a618e25a192",
   "metadata": {},
   "source": [
    "#### visualize MFCCs with positional encoding"
   ]
  },
  {
   "cell_type": "code",
   "execution_count": 378,
   "id": "675b300f-6dbd-4d53-9f55-2b7bb7e1a9f3",
   "metadata": {},
   "outputs": [
    {
     "data": {
      "text/plain": [
       "Text(0.5, 1.0, 'raw input + position_encoding')"
      ]
     },
     "execution_count": 378,
     "metadata": {},
     "output_type": "execute_result"
    },
    {
     "data": {
      "image/png": "[encoded data removed]",
      "text/plain": [
       "<Figure size 1200x1000 with 1 Axes>"
      ]
     },
     "metadata": {},
     "output_type": "display_data"
    },
    {
     "data": {
      "image/png": "[encoded data removed]",
      "text/plain": [
       "<Figure size 1200x2000 with 1 Axes>"
      ]
     },
     "metadata": {},
     "output_type": "display_data"
    },
    {
     "data": {
      "image/png": "[encoded data removed]",
      "text/plain": [
       "<Figure size 1200x2000 with 1 Axes>"
      ]
     },
     "metadata": {},
     "output_type": "display_data"
    }
   ],
   "source": [
    "raw_input = torch.nn.functional.normalize(train_dataset[0][0])\n",
    "positional_encoding = model.positional_encoding[0][:len(raw_input)]\n",
    "\n",
    "plt.figure(figsize = (12,10))\n",
    "plt.imshow(raw_input.T);\n",
    "plt.title(\"raw MFCC input (normalized)\")\n",
    "plt.figure(figsize = (12,20))\n",
    "plt.imshow(positional_encoding.T);\n",
    "plt.title(\"position_encoding\")\n",
    "plt.figure(figsize = (12,20))\n",
    "plt.imshow((raw_input+positional_encoding).T);\n",
    "plt.title(\"raw input + position_encoding\")"
   ]
  },
  {
   "cell_type": "markdown",
   "id": "7317a81f",
   "metadata": {},
   "source": [
    "## instantiate and train model"
   ]
  },
  {
   "cell_type": "code",
   "execution_count": 21,
   "id": "53efe2c8",
   "metadata": {},
   "outputs": [
    {
     "name": "stdout",
     "output_type": "stream",
     "text": [
      "Epoch 1/10, Loss: 0.4808702190967119\n",
      "Validation Accuracy: 82.66100495399859 %\n",
      "Epoch 2/10, Loss: 0.31091769075434594\n",
      "Validation Accuracy: 87.22576079263978 %\n",
      "Epoch 3/10, Loss: 0.22882688481113458\n",
      "Validation Accuracy: 87.79193205944799 %\n",
      "Epoch 4/10, Loss: 0.18032589509605815\n",
      "Validation Accuracy: 92.00283085633404 %\n",
      "Epoch 5/10, Loss: 0.13522554368411513\n",
      "Validation Accuracy: 92.7105449398443 %\n",
      "Epoch 6/10, Loss: 0.11160879993909284\n",
      "Validation Accuracy: 94.90445859872611 %\n",
      "Epoch 7/10, Loss: 0.09547844580300067\n",
      "Validation Accuracy: 90.7997169143666 %\n",
      "Epoch 8/10, Loss: 0.0824930993872066\n",
      "Validation Accuracy: 93.59518754423213 %\n",
      "Epoch 9/10, Loss: 0.07479712708365147\n",
      "Validation Accuracy: 94.93984430290163 %\n",
      "Epoch 10/10, Loss: 0.07597392483122084\n",
      "Validation Accuracy: 96.7445152158528 %\n"
     ]
    }
   ],
   "source": [
    "device = torch.device('cuda' if torch.cuda.is_available() else 'cpu')\n",
    "\n",
    "model = AudioTransformer(n_mels=N_MFCC, n_classes=2).to(device)\n",
    "criterion = nn.CrossEntropyLoss(weight=torch.tensor([1, 1], dtype=torch.float).to(device))\n",
    "optimizer = torch.optim.Adam(model.parameters(), lr=0.001)\n",
    "\n",
    "num_epochs = 10\n",
    "for epoch in range(num_epochs):\n",
    "    model.train()\n",
    "    running_loss = 0.0\n",
    "    for i, (inputs, labels) in enumerate(train_loader):\n",
    "        inputs, labels = inputs.to(device), labels.to(device)\n",
    "        \n",
    "        optimizer.zero_grad()\n",
    "        outputs = model(inputs)\n",
    "        loss = criterion(outputs, labels)\n",
    "        loss.backward()\n",
    "        optimizer.step()\n",
    "\n",
    "        running_loss += loss.item()\n",
    "    \n",
    "    print(f\"Epoch {epoch+1}/{num_epochs}, Loss: {running_loss/len(train_loader)}\")\n",
    "\n",
    "    # Validation phase\n",
    "    model.eval()\n",
    "    correct = 0\n",
    "    total = 0\n",
    "    with torch.no_grad():\n",
    "        for inputs, labels in val_loader:\n",
    "            inputs, labels = inputs.to(device), labels.to(device)\n",
    "            outputs = model(inputs)\n",
    "            _, predicted = torch.max(outputs, 1)\n",
    "            total += labels.size(0)\n",
    "            correct += (predicted == labels).sum().item()\n",
    "    \n",
    "    print(f'Validation Accuracy: {100 * correct / total} %')"
   ]
  },
  {
   "cell_type": "markdown",
   "id": "ee4493d6-3eeb-414f-a50b-955358aba789",
   "metadata": {},
   "source": [
    "## visualize model architecture"
   ]
  },
  {
   "cell_type": "code",
   "execution_count": 266,
   "id": "15183de5-af93-455b-a1a8-9d5a39c81f9e",
   "metadata": {},
   "outputs": [],
   "source": [
    "from torchview import draw_graph\n",
    "model_graph = draw_graph(model.transformer_encoder.layers[0], input_size=(1, 1000, 20), device='meta', \n",
    "                         save_graph=1, depth=1, strict=0, graph_dir=\"TB\", \n",
    "                         expand_nested=1, roll=0)\n",
    "m = model_graph.visual_graph"
   ]
  },
  {
   "cell_type": "code",
   "execution_count": 268,
   "id": "5a629ed1-15f4-440e-9934-4458c5a5415a",
   "metadata": {},
   "outputs": [
    {
     "data": {
      "image/svg+xml": [
       "<?xml version=\"1.0\" encoding=\"UTF-8\" standalone=\"no\"?>\n",
       "<!DOCTYPE svg PUBLIC \"-//W3C//DTD SVG 1.1//EN\"\n",
       " \"http://www.w3.org/Graphics/SVG/1.1/DTD/svg11.dtd\">\n",
       "<!-- Generated by graphviz version 12.2.1 (20241206.2353)\n",
       " -->\n",
       "<!-- Title: model Pages: 1 -->\n",
       "<svg width=\"254pt\" height=\"864pt\"\n",
       " viewBox=\"0.00 0.00 253.98 864.00\" xmlns=\"http://www.w3.org/2000/svg\" xmlns:xlink=\"http://www.w3.org/1999/xlink\">\n",
       "<g id=\"graph0\" class=\"graph\" transform=\"scale(0.888432 0.888432) rotate(0) translate(4 968.5)\">\n",
       "<title>model</title>\n",
       "<polygon fill=\"white\" stroke=\"none\" points=\"-4,4 -4,-968.5 281.88,-968.5 281.88,4 -4,4\"/>\n",
       "<!-- 0 -->\n",
       "<g id=\"node1\" class=\"node\">\n",
       "<title>0</title>\n",
       "<polygon fill=\"lightyellow\" stroke=\"none\" points=\"162.62,-964.5 36.88,-964.5 36.88,-932 162.62,-932 162.62,-964.5\"/>\n",
       "<polygon fill=\"none\" stroke=\"black\" points=\"36.88,-932 36.88,-964.5 97.88,-964.5 97.88,-932 36.88,-932\"/>\n",
       "<text text-anchor=\"start\" x=\"41.88\" y=\"-950\" font-family=\"Linux libertine\" font-size=\"10.00\">input&#45;tensor</text>\n",
       "<text text-anchor=\"start\" x=\"51.25\" y=\"-938.75\" font-family=\"Linux libertine\" font-size=\"10.00\">depth:0</text>\n",
       "<polygon fill=\"none\" stroke=\"black\" points=\"97.88,-932 97.88,-964.5 162.62,-964.5 162.62,-932 97.88,-932\"/>\n",
       "<text text-anchor=\"start\" x=\"102.88\" y=\"-944.38\" font-family=\"Linux libertine\" font-size=\"10.00\">(1, 1000, 20)</text>\n",
       "</g>\n",
       "<!-- 1 -->\n",
       "<g id=\"node2\" class=\"node\">\n",
       "<title>1</title>\n",
       "<polygon fill=\"#c1ffc1\" stroke=\"none\" points=\"277.88,-896 59.62,-896 59.62,-853.5 277.88,-853.5 277.88,-896\"/>\n",
       "<polygon fill=\"none\" stroke=\"black\" points=\"59.62,-853.5 59.62,-896 150.62,-896 150.62,-853.5 59.62,-853.5\"/>\n",
       "<text text-anchor=\"start\" x=\"64.62\" y=\"-876.5\" font-family=\"Linux libertine\" font-size=\"10.00\">MultiheadAttention</text>\n",
       "<text text-anchor=\"start\" x=\"89\" y=\"-865.25\" font-family=\"Linux libertine\" font-size=\"10.00\">depth:1</text>\n",
       "<polygon fill=\"none\" stroke=\"black\" points=\"150.62,-874.75 150.62,-896 193.62,-896 193.62,-874.75 150.62,-874.75\"/>\n",
       "<text text-anchor=\"start\" x=\"160.12\" y=\"-881.5\" font-family=\"Linux libertine\" font-size=\"10.00\">input:</text>\n",
       "<polygon fill=\"none\" stroke=\"black\" points=\"193.62,-874.75 193.62,-896 277.88,-896 277.88,-874.75 193.62,-874.75\"/>\n",
       "<text text-anchor=\"start\" x=\"198.62\" y=\"-881.5\" font-family=\"Linux libertine\" font-size=\"10.00\">3 x (1, 1000, 20) </text>\n",
       "<polygon fill=\"none\" stroke=\"black\" points=\"150.62,-853.5 150.62,-874.75 193.62,-874.75 193.62,-853.5 150.62,-853.5\"/>\n",
       "<text text-anchor=\"start\" x=\"155.62\" y=\"-860.25\" font-family=\"Linux libertine\" font-size=\"10.00\">output: </text>\n",
       "<polygon fill=\"none\" stroke=\"black\" points=\"193.62,-853.5 193.62,-874.75 277.88,-874.75 277.88,-853.5 193.62,-853.5\"/>\n",
       "<text text-anchor=\"start\" x=\"206.88\" y=\"-860.25\" font-family=\"Linux libertine\" font-size=\"10.00\">(1, 1000, 20) </text>\n",
       "</g>\n",
       "<!-- 0&#45;&gt;1 -->\n",
       "<g id=\"edge1\" class=\"edge\">\n",
       "<title>0&#45;&gt;1</title>\n",
       "<path fill=\"none\" stroke=\"black\" d=\"M114.38,-932.09C122.28,-923.91 132.28,-913.55 141.54,-903.95\"/>\n",
       "<polygon fill=\"black\" stroke=\"black\" points=\"143.94,-906.49 148.37,-896.87 138.91,-901.63 143.94,-906.49\"/>\n",
       "</g>\n",
       "<!-- 3 -->\n",
       "<g id=\"node4\" class=\"node\">\n",
       "<title>3</title>\n",
       "<polygon fill=\"aliceblue\" stroke=\"none\" points=\"169.5,-739 0,-739 0,-696.5 169.5,-696.5 169.5,-739\"/>\n",
       "<polygon fill=\"none\" stroke=\"black\" points=\"0,-696.5 0,-739 42.25,-739 42.25,-696.5 0,-696.5\"/>\n",
       "<text text-anchor=\"start\" x=\"13.25\" y=\"-719.5\" font-family=\"Linux libertine\" font-size=\"10.00\">add</text>\n",
       "<text text-anchor=\"start\" x=\"5\" y=\"-708.25\" font-family=\"Linux libertine\" font-size=\"10.00\">depth:1</text>\n",
       "<polygon fill=\"none\" stroke=\"black\" points=\"42.25,-717.75 42.25,-739 85.25,-739 85.25,-717.75 42.25,-717.75\"/>\n",
       "<text text-anchor=\"start\" x=\"51.75\" y=\"-724.5\" font-family=\"Linux libertine\" font-size=\"10.00\">input:</text>\n",
       "<polygon fill=\"none\" stroke=\"black\" points=\"85.25,-717.75 85.25,-739 169.5,-739 169.5,-717.75 85.25,-717.75\"/>\n",
       "<text text-anchor=\"start\" x=\"90.25\" y=\"-724.5\" font-family=\"Linux libertine\" font-size=\"10.00\">2 x (1, 1000, 20) </text>\n",
       "<polygon fill=\"none\" stroke=\"black\" points=\"42.25,-696.5 42.25,-717.75 85.25,-717.75 85.25,-696.5 42.25,-696.5\"/>\n",
       "<text text-anchor=\"start\" x=\"47.25\" y=\"-703.25\" font-family=\"Linux libertine\" font-size=\"10.00\">output: </text>\n",
       "<polygon fill=\"none\" stroke=\"black\" points=\"85.25,-696.5 85.25,-717.75 169.5,-717.75 169.5,-696.5 85.25,-696.5\"/>\n",
       "<text text-anchor=\"start\" x=\"98.5\" y=\"-703.25\" font-family=\"Linux libertine\" font-size=\"10.00\">(1, 1000, 20) </text>\n",
       "</g>\n",
       "<!-- 0&#45;&gt;3 -->\n",
       "<g id=\"edge2\" class=\"edge\">\n",
       "<title>0&#45;&gt;3</title>\n",
       "<path fill=\"none\" stroke=\"black\" d=\"M79.14,-932.16C68.48,-923.04 56.52,-910.4 50.75,-896 31.03,-846.85 52.17,-785.34 68.81,-749.21\"/>\n",
       "<polygon fill=\"black\" stroke=\"black\" points=\"71.96,-750.75 73.13,-740.22 65.65,-747.72 71.96,-750.75\"/>\n",
       "</g>\n",
       "<!-- 2 -->\n",
       "<g id=\"node3\" class=\"node\">\n",
       "<title>2</title>\n",
       "<polygon fill=\"#c1ffc1\" stroke=\"none\" points=\"230.38,-817.5 75.12,-817.5 75.12,-775 230.38,-775 230.38,-817.5\"/>\n",
       "<polygon fill=\"none\" stroke=\"black\" points=\"75.12,-775 75.12,-817.5 119.62,-817.5 119.62,-775 75.12,-775\"/>\n",
       "<text text-anchor=\"start\" x=\"80.12\" y=\"-798\" font-family=\"Linux libertine\" font-size=\"10.00\">Dropout</text>\n",
       "<text text-anchor=\"start\" x=\"81.25\" y=\"-786.75\" font-family=\"Linux libertine\" font-size=\"10.00\">depth:1</text>\n",
       "<polygon fill=\"none\" stroke=\"black\" points=\"119.62,-796.25 119.62,-817.5 162.62,-817.5 162.62,-796.25 119.62,-796.25\"/>\n",
       "<text text-anchor=\"start\" x=\"129.12\" y=\"-803\" font-family=\"Linux libertine\" font-size=\"10.00\">input:</text>\n",
       "<polygon fill=\"none\" stroke=\"black\" points=\"162.62,-796.25 162.62,-817.5 230.38,-817.5 230.38,-796.25 162.62,-796.25\"/>\n",
       "<text text-anchor=\"start\" x=\"167.62\" y=\"-803\" font-family=\"Linux libertine\" font-size=\"10.00\">(1, 1000, 20) </text>\n",
       "<polygon fill=\"none\" stroke=\"black\" points=\"119.62,-775 119.62,-796.25 162.62,-796.25 162.62,-775 119.62,-775\"/>\n",
       "<text text-anchor=\"start\" x=\"124.62\" y=\"-781.75\" font-family=\"Linux libertine\" font-size=\"10.00\">output: </text>\n",
       "<polygon fill=\"none\" stroke=\"black\" points=\"162.62,-775 162.62,-796.25 230.38,-796.25 230.38,-775 162.62,-775\"/>\n",
       "<text text-anchor=\"start\" x=\"167.62\" y=\"-781.75\" font-family=\"Linux libertine\" font-size=\"10.00\">(1, 1000, 20) </text>\n",
       "</g>\n",
       "<!-- 1&#45;&gt;2 -->\n",
       "<g id=\"edge3\" class=\"edge\">\n",
       "<title>1&#45;&gt;2</title>\n",
       "<path fill=\"none\" stroke=\"black\" d=\"M164.55,-853.65C162.94,-845.98 161.07,-837.04 159.3,-828.58\"/>\n",
       "<polygon fill=\"black\" stroke=\"black\" points=\"162.76,-828.03 157.29,-818.96 155.91,-829.47 162.76,-828.03\"/>\n",
       "</g>\n",
       "<!-- 2&#45;&gt;3 -->\n",
       "<g id=\"edge4\" class=\"edge\">\n",
       "<title>2&#45;&gt;3</title>\n",
       "<path fill=\"none\" stroke=\"black\" d=\"M134.88,-775.15C127.37,-766.7 118.49,-756.7 110.3,-747.49\"/>\n",
       "<polygon fill=\"black\" stroke=\"black\" points=\"113,-745.26 103.74,-740.11 107.77,-749.91 113,-745.26\"/>\n",
       "</g>\n",
       "<!-- 4 -->\n",
       "<g id=\"node5\" class=\"node\">\n",
       "<title>4</title>\n",
       "<polygon fill=\"#c1ffc1\" stroke=\"none\" points=\"169.12,-660.5 0.38,-660.5 0.38,-618 169.12,-618 169.12,-660.5\"/>\n",
       "<polygon fill=\"none\" stroke=\"black\" points=\"0.38,-618 0.38,-660.5 58.38,-660.5 58.38,-618 0.38,-618\"/>\n",
       "<text text-anchor=\"start\" x=\"5.38\" y=\"-641\" font-family=\"Linux libertine\" font-size=\"10.00\">LayerNorm</text>\n",
       "<text text-anchor=\"start\" x=\"13.25\" y=\"-629.75\" font-family=\"Linux libertine\" font-size=\"10.00\">depth:1</text>\n",
       "<polygon fill=\"none\" stroke=\"black\" points=\"58.38,-639.25 58.38,-660.5 101.38,-660.5 101.38,-639.25 58.38,-639.25\"/>\n",
       "<text text-anchor=\"start\" x=\"67.88\" y=\"-646\" font-family=\"Linux libertine\" font-size=\"10.00\">input:</text>\n",
       "<polygon fill=\"none\" stroke=\"black\" points=\"101.38,-639.25 101.38,-660.5 169.12,-660.5 169.12,-639.25 101.38,-639.25\"/>\n",
       "<text text-anchor=\"start\" x=\"106.38\" y=\"-646\" font-family=\"Linux libertine\" font-size=\"10.00\">(1, 1000, 20) </text>\n",
       "<polygon fill=\"none\" stroke=\"black\" points=\"58.38,-618 58.38,-639.25 101.38,-639.25 101.38,-618 58.38,-618\"/>\n",
       "<text text-anchor=\"start\" x=\"63.38\" y=\"-624.75\" font-family=\"Linux libertine\" font-size=\"10.00\">output: </text>\n",
       "<polygon fill=\"none\" stroke=\"black\" points=\"101.38,-618 101.38,-639.25 169.12,-639.25 169.12,-618 101.38,-618\"/>\n",
       "<text text-anchor=\"start\" x=\"106.38\" y=\"-624.75\" font-family=\"Linux libertine\" font-size=\"10.00\">(1, 1000, 20) </text>\n",
       "</g>\n",
       "<!-- 3&#45;&gt;4 -->\n",
       "<g id=\"edge5\" class=\"edge\">\n",
       "<title>3&#45;&gt;4</title>\n",
       "<path fill=\"none\" stroke=\"black\" d=\"M84.75,-696.65C84.75,-689.07 84.75,-680.25 84.75,-671.86\"/>\n",
       "<polygon fill=\"black\" stroke=\"black\" points=\"88.25,-671.99 84.75,-661.99 81.25,-671.99 88.25,-671.99\"/>\n",
       "</g>\n",
       "<!-- 5 -->\n",
       "<g id=\"node6\" class=\"node\">\n",
       "<title>5</title>\n",
       "<polygon fill=\"#c1ffc1\" stroke=\"none\" points=\"214.25,-582 61.25,-582 61.25,-539.5 214.25,-539.5 214.25,-582\"/>\n",
       "<polygon fill=\"none\" stroke=\"black\" points=\"61.25,-539.5 61.25,-582 103.5,-582 103.5,-539.5 61.25,-539.5\"/>\n",
       "<text text-anchor=\"start\" x=\"69.25\" y=\"-562.5\" font-family=\"Linux libertine\" font-size=\"10.00\">Linear</text>\n",
       "<text text-anchor=\"start\" x=\"66.25\" y=\"-551.25\" font-family=\"Linux libertine\" font-size=\"10.00\">depth:1</text>\n",
       "<polygon fill=\"none\" stroke=\"black\" points=\"103.5,-560.75 103.5,-582 146.5,-582 146.5,-560.75 103.5,-560.75\"/>\n",
       "<text text-anchor=\"start\" x=\"113\" y=\"-567.5\" font-family=\"Linux libertine\" font-size=\"10.00\">input:</text>\n",
       "<polygon fill=\"none\" stroke=\"black\" points=\"146.5,-560.75 146.5,-582 214.25,-582 214.25,-560.75 146.5,-560.75\"/>\n",
       "<text text-anchor=\"start\" x=\"151.5\" y=\"-567.5\" font-family=\"Linux libertine\" font-size=\"10.00\">(1, 1000, 20) </text>\n",
       "<polygon fill=\"none\" stroke=\"black\" points=\"103.5,-539.5 103.5,-560.75 146.5,-560.75 146.5,-539.5 103.5,-539.5\"/>\n",
       "<text text-anchor=\"start\" x=\"108.5\" y=\"-546.25\" font-family=\"Linux libertine\" font-size=\"10.00\">output: </text>\n",
       "<polygon fill=\"none\" stroke=\"black\" points=\"146.5,-539.5 146.5,-560.75 214.25,-560.75 214.25,-539.5 146.5,-539.5\"/>\n",
       "<text text-anchor=\"start\" x=\"151.5\" y=\"-546.25\" font-family=\"Linux libertine\" font-size=\"10.00\">(1, 1000, 64) </text>\n",
       "</g>\n",
       "<!-- 4&#45;&gt;5 -->\n",
       "<g id=\"edge6\" class=\"edge\">\n",
       "<title>4&#45;&gt;5</title>\n",
       "<path fill=\"none\" stroke=\"black\" d=\"M98.68,-618.15C104.35,-609.96 111.03,-600.32 117.24,-591.35\"/>\n",
       "<polygon fill=\"black\" stroke=\"black\" points=\"120.05,-593.44 122.87,-583.22 114.3,-589.45 120.05,-593.44\"/>\n",
       "</g>\n",
       "<!-- 10 -->\n",
       "<g id=\"node11\" class=\"node\">\n",
       "<title>10</title>\n",
       "<polygon fill=\"aliceblue\" stroke=\"none\" points=\"170.5,-189.5 1,-189.5 1,-147 170.5,-147 170.5,-189.5\"/>\n",
       "<polygon fill=\"none\" stroke=\"black\" points=\"1,-147 1,-189.5 43.25,-189.5 43.25,-147 1,-147\"/>\n",
       "<text text-anchor=\"start\" x=\"14.25\" y=\"-170\" font-family=\"Linux libertine\" font-size=\"10.00\">add</text>\n",
       "<text text-anchor=\"start\" x=\"6\" y=\"-158.75\" font-family=\"Linux libertine\" font-size=\"10.00\">depth:1</text>\n",
       "<polygon fill=\"none\" stroke=\"black\" points=\"43.25,-168.25 43.25,-189.5 86.25,-189.5 86.25,-168.25 43.25,-168.25\"/>\n",
       "<text text-anchor=\"start\" x=\"52.75\" y=\"-175\" font-family=\"Linux libertine\" font-size=\"10.00\">input:</text>\n",
       "<polygon fill=\"none\" stroke=\"black\" points=\"86.25,-168.25 86.25,-189.5 170.5,-189.5 170.5,-168.25 86.25,-168.25\"/>\n",
       "<text text-anchor=\"start\" x=\"91.25\" y=\"-175\" font-family=\"Linux libertine\" font-size=\"10.00\">2 x (1, 1000, 20) </text>\n",
       "<polygon fill=\"none\" stroke=\"black\" points=\"43.25,-147 43.25,-168.25 86.25,-168.25 86.25,-147 43.25,-147\"/>\n",
       "<text text-anchor=\"start\" x=\"48.25\" y=\"-153.75\" font-family=\"Linux libertine\" font-size=\"10.00\">output: </text>\n",
       "<polygon fill=\"none\" stroke=\"black\" points=\"86.25,-147 86.25,-168.25 170.5,-168.25 170.5,-147 86.25,-147\"/>\n",
       "<text text-anchor=\"start\" x=\"99.5\" y=\"-153.75\" font-family=\"Linux libertine\" font-size=\"10.00\">(1, 1000, 20) </text>\n",
       "</g>\n",
       "<!-- 4&#45;&gt;10 -->\n",
       "<g id=\"edge7\" class=\"edge\">\n",
       "<title>4&#45;&gt;10</title>\n",
       "<path fill=\"none\" stroke=\"black\" d=\"M71.26,-618.18C64.81,-607.77 57.48,-594.63 52.75,-582 37.04,-540.07 32.75,-528.03 32.75,-483.25 32.75,-483.25 32.75,-483.25 32.75,-324.25 32.75,-279.56 35.72,-267.22 51.75,-225.5 55.21,-216.49 60.1,-207.29 65.09,-199.01\"/>\n",
       "<polygon fill=\"black\" stroke=\"black\" points=\"67.95,-201.05 70.34,-190.73 62.03,-197.3 67.95,-201.05\"/>\n",
       "</g>\n",
       "<!-- 6 -->\n",
       "<g id=\"node7\" class=\"node\">\n",
       "<title>6</title>\n",
       "<polygon fill=\"aliceblue\" stroke=\"none\" points=\"214.25,-503.5 61.25,-503.5 61.25,-461 214.25,-461 214.25,-503.5\"/>\n",
       "<polygon fill=\"none\" stroke=\"black\" points=\"61.25,-461 61.25,-503.5 103.5,-503.5 103.5,-461 61.25,-461\"/>\n",
       "<text text-anchor=\"start\" x=\"74.5\" y=\"-484\" font-family=\"Linux libertine\" font-size=\"10.00\">relu</text>\n",
       "<text text-anchor=\"start\" x=\"66.25\" y=\"-472.75\" font-family=\"Linux libertine\" font-size=\"10.00\">depth:1</text>\n",
       "<polygon fill=\"none\" stroke=\"black\" points=\"103.5,-482.25 103.5,-503.5 146.5,-503.5 146.5,-482.25 103.5,-482.25\"/>\n",
       "<text text-anchor=\"start\" x=\"113\" y=\"-489\" font-family=\"Linux libertine\" font-size=\"10.00\">input:</text>\n",
       "<polygon fill=\"none\" stroke=\"black\" points=\"146.5,-482.25 146.5,-503.5 214.25,-503.5 214.25,-482.25 146.5,-482.25\"/>\n",
       "<text text-anchor=\"start\" x=\"151.5\" y=\"-489\" font-family=\"Linux libertine\" font-size=\"10.00\">(1, 1000, 64) </text>\n",
       "<polygon fill=\"none\" stroke=\"black\" points=\"103.5,-461 103.5,-482.25 146.5,-482.25 146.5,-461 103.5,-461\"/>\n",
       "<text text-anchor=\"start\" x=\"108.5\" y=\"-467.75\" font-family=\"Linux libertine\" font-size=\"10.00\">output: </text>\n",
       "<polygon fill=\"none\" stroke=\"black\" points=\"146.5,-461 146.5,-482.25 214.25,-482.25 214.25,-461 146.5,-461\"/>\n",
       "<text text-anchor=\"start\" x=\"151.5\" y=\"-467.75\" font-family=\"Linux libertine\" font-size=\"10.00\">(1, 1000, 64) </text>\n",
       "</g>\n",
       "<!-- 5&#45;&gt;6 -->\n",
       "<g id=\"edge8\" class=\"edge\">\n",
       "<title>5&#45;&gt;6</title>\n",
       "<path fill=\"none\" stroke=\"black\" d=\"M137.75,-539.65C137.75,-532.07 137.75,-523.25 137.75,-514.86\"/>\n",
       "<polygon fill=\"black\" stroke=\"black\" points=\"141.25,-514.99 137.75,-504.99 134.25,-514.99 141.25,-514.99\"/>\n",
       "</g>\n",
       "<!-- 7 -->\n",
       "<g id=\"node8\" class=\"node\">\n",
       "<title>7</title>\n",
       "<polygon fill=\"#c1ffc1\" stroke=\"none\" points=\"216.38,-425 61.12,-425 61.12,-382.5 216.38,-382.5 216.38,-425\"/>\n",
       "<polygon fill=\"none\" stroke=\"black\" points=\"61.12,-382.5 61.12,-425 105.62,-425 105.62,-382.5 61.12,-382.5\"/>\n",
       "<text text-anchor=\"start\" x=\"66.12\" y=\"-405.5\" font-family=\"Linux libertine\" font-size=\"10.00\">Dropout</text>\n",
       "<text text-anchor=\"start\" x=\"67.25\" y=\"-394.25\" font-family=\"Linux libertine\" font-size=\"10.00\">depth:1</text>\n",
       "<polygon fill=\"none\" stroke=\"black\" points=\"105.62,-403.75 105.62,-425 148.62,-425 148.62,-403.75 105.62,-403.75\"/>\n",
       "<text text-anchor=\"start\" x=\"115.12\" y=\"-410.5\" font-family=\"Linux libertine\" font-size=\"10.00\">input:</text>\n",
       "<polygon fill=\"none\" stroke=\"black\" points=\"148.62,-403.75 148.62,-425 216.38,-425 216.38,-403.75 148.62,-403.75\"/>\n",
       "<text text-anchor=\"start\" x=\"153.62\" y=\"-410.5\" font-family=\"Linux libertine\" font-size=\"10.00\">(1, 1000, 64) </text>\n",
       "<polygon fill=\"none\" stroke=\"black\" points=\"105.62,-382.5 105.62,-403.75 148.62,-403.75 148.62,-382.5 105.62,-382.5\"/>\n",
       "<text text-anchor=\"start\" x=\"110.62\" y=\"-389.25\" font-family=\"Linux libertine\" font-size=\"10.00\">output: </text>\n",
       "<polygon fill=\"none\" stroke=\"black\" points=\"148.62,-382.5 148.62,-403.75 216.38,-403.75 216.38,-382.5 148.62,-382.5\"/>\n",
       "<text text-anchor=\"start\" x=\"153.62\" y=\"-389.25\" font-family=\"Linux libertine\" font-size=\"10.00\">(1, 1000, 64) </text>\n",
       "</g>\n",
       "<!-- 6&#45;&gt;7 -->\n",
       "<g id=\"edge9\" class=\"edge\">\n",
       "<title>6&#45;&gt;7</title>\n",
       "<path fill=\"none\" stroke=\"black\" d=\"M138.01,-461.15C138.11,-453.57 138.23,-444.75 138.34,-436.36\"/>\n",
       "<polygon fill=\"black\" stroke=\"black\" points=\"141.83,-436.54 138.47,-426.49 134.84,-436.45 141.83,-436.54\"/>\n",
       "</g>\n",
       "<!-- 8 -->\n",
       "<g id=\"node9\" class=\"node\">\n",
       "<title>8</title>\n",
       "<polygon fill=\"#c1ffc1\" stroke=\"none\" points=\"215.25,-346.5 62.25,-346.5 62.25,-304 215.25,-304 215.25,-346.5\"/>\n",
       "<polygon fill=\"none\" stroke=\"black\" points=\"62.25,-304 62.25,-346.5 104.5,-346.5 104.5,-304 62.25,-304\"/>\n",
       "<text text-anchor=\"start\" x=\"70.25\" y=\"-327\" font-family=\"Linux libertine\" font-size=\"10.00\">Linear</text>\n",
       "<text text-anchor=\"start\" x=\"67.25\" y=\"-315.75\" font-family=\"Linux libertine\" font-size=\"10.00\">depth:1</text>\n",
       "<polygon fill=\"none\" stroke=\"black\" points=\"104.5,-325.25 104.5,-346.5 147.5,-346.5 147.5,-325.25 104.5,-325.25\"/>\n",
       "<text text-anchor=\"start\" x=\"114\" y=\"-332\" font-family=\"Linux libertine\" font-size=\"10.00\">input:</text>\n",
       "<polygon fill=\"none\" stroke=\"black\" points=\"147.5,-325.25 147.5,-346.5 215.25,-346.5 215.25,-325.25 147.5,-325.25\"/>\n",
       "<text text-anchor=\"start\" x=\"152.5\" y=\"-332\" font-family=\"Linux libertine\" font-size=\"10.00\">(1, 1000, 64) </text>\n",
       "<polygon fill=\"none\" stroke=\"black\" points=\"104.5,-304 104.5,-325.25 147.5,-325.25 147.5,-304 104.5,-304\"/>\n",
       "<text text-anchor=\"start\" x=\"109.5\" y=\"-310.75\" font-family=\"Linux libertine\" font-size=\"10.00\">output: </text>\n",
       "<polygon fill=\"none\" stroke=\"black\" points=\"147.5,-304 147.5,-325.25 215.25,-325.25 215.25,-304 147.5,-304\"/>\n",
       "<text text-anchor=\"start\" x=\"152.5\" y=\"-310.75\" font-family=\"Linux libertine\" font-size=\"10.00\">(1, 1000, 20) </text>\n",
       "</g>\n",
       "<!-- 7&#45;&gt;8 -->\n",
       "<g id=\"edge10\" class=\"edge\">\n",
       "<title>7&#45;&gt;8</title>\n",
       "<path fill=\"none\" stroke=\"black\" d=\"M138.75,-382.65C138.75,-375.07 138.75,-366.25 138.75,-357.86\"/>\n",
       "<polygon fill=\"black\" stroke=\"black\" points=\"142.25,-357.99 138.75,-347.99 135.25,-357.99 142.25,-357.99\"/>\n",
       "</g>\n",
       "<!-- 9 -->\n",
       "<g id=\"node10\" class=\"node\">\n",
       "<title>9</title>\n",
       "<polygon fill=\"#c1ffc1\" stroke=\"none\" points=\"216.38,-268 61.12,-268 61.12,-225.5 216.38,-225.5 216.38,-268\"/>\n",
       "<polygon fill=\"none\" stroke=\"black\" points=\"61.12,-225.5 61.12,-268 105.62,-268 105.62,-225.5 61.12,-225.5\"/>\n",
       "<text text-anchor=\"start\" x=\"66.12\" y=\"-248.5\" font-family=\"Linux libertine\" font-size=\"10.00\">Dropout</text>\n",
       "<text text-anchor=\"start\" x=\"67.25\" y=\"-237.25\" font-family=\"Linux libertine\" font-size=\"10.00\">depth:1</text>\n",
       "<polygon fill=\"none\" stroke=\"black\" points=\"105.62,-246.75 105.62,-268 148.62,-268 148.62,-246.75 105.62,-246.75\"/>\n",
       "<text text-anchor=\"start\" x=\"115.12\" y=\"-253.5\" font-family=\"Linux libertine\" font-size=\"10.00\">input:</text>\n",
       "<polygon fill=\"none\" stroke=\"black\" points=\"148.62,-246.75 148.62,-268 216.38,-268 216.38,-246.75 148.62,-246.75\"/>\n",
       "<text text-anchor=\"start\" x=\"153.62\" y=\"-253.5\" font-family=\"Linux libertine\" font-size=\"10.00\">(1, 1000, 20) </text>\n",
       "<polygon fill=\"none\" stroke=\"black\" points=\"105.62,-225.5 105.62,-246.75 148.62,-246.75 148.62,-225.5 105.62,-225.5\"/>\n",
       "<text text-anchor=\"start\" x=\"110.62\" y=\"-232.25\" font-family=\"Linux libertine\" font-size=\"10.00\">output: </text>\n",
       "<polygon fill=\"none\" stroke=\"black\" points=\"148.62,-225.5 148.62,-246.75 216.38,-246.75 216.38,-225.5 148.62,-225.5\"/>\n",
       "<text text-anchor=\"start\" x=\"153.62\" y=\"-232.25\" font-family=\"Linux libertine\" font-size=\"10.00\">(1, 1000, 20) </text>\n",
       "</g>\n",
       "<!-- 8&#45;&gt;9 -->\n",
       "<g id=\"edge11\" class=\"edge\">\n",
       "<title>8&#45;&gt;9</title>\n",
       "<path fill=\"none\" stroke=\"black\" d=\"M138.75,-304.15C138.75,-296.57 138.75,-287.75 138.75,-279.36\"/>\n",
       "<polygon fill=\"black\" stroke=\"black\" points=\"142.25,-279.49 138.75,-269.49 135.25,-279.49 142.25,-279.49\"/>\n",
       "</g>\n",
       "<!-- 9&#45;&gt;10 -->\n",
       "<g id=\"edge12\" class=\"edge\">\n",
       "<title>9&#45;&gt;10</title>\n",
       "<path fill=\"none\" stroke=\"black\" d=\"M124.82,-225.65C119.15,-217.46 112.47,-207.82 106.26,-198.85\"/>\n",
       "<polygon fill=\"black\" stroke=\"black\" points=\"109.2,-196.95 100.63,-190.72 103.45,-200.94 109.2,-196.95\"/>\n",
       "</g>\n",
       "<!-- 11 -->\n",
       "<g id=\"node12\" class=\"node\">\n",
       "<title>11</title>\n",
       "<polygon fill=\"#c1ffc1\" stroke=\"none\" points=\"170.12,-111 1.38,-111 1.38,-68.5 170.12,-68.5 170.12,-111\"/>\n",
       "<polygon fill=\"none\" stroke=\"black\" points=\"1.38,-68.5 1.38,-111 59.38,-111 59.38,-68.5 1.38,-68.5\"/>\n",
       "<text text-anchor=\"start\" x=\"6.38\" y=\"-91.5\" font-family=\"Linux libertine\" font-size=\"10.00\">LayerNorm</text>\n",
       "<text text-anchor=\"start\" x=\"14.25\" y=\"-80.25\" font-family=\"Linux libertine\" font-size=\"10.00\">depth:1</text>\n",
       "<polygon fill=\"none\" stroke=\"black\" points=\"59.38,-89.75 59.38,-111 102.38,-111 102.38,-89.75 59.38,-89.75\"/>\n",
       "<text text-anchor=\"start\" x=\"68.88\" y=\"-96.5\" font-family=\"Linux libertine\" font-size=\"10.00\">input:</text>\n",
       "<polygon fill=\"none\" stroke=\"black\" points=\"102.38,-89.75 102.38,-111 170.12,-111 170.12,-89.75 102.38,-89.75\"/>\n",
       "<text text-anchor=\"start\" x=\"107.38\" y=\"-96.5\" font-family=\"Linux libertine\" font-size=\"10.00\">(1, 1000, 20) </text>\n",
       "<polygon fill=\"none\" stroke=\"black\" points=\"59.38,-68.5 59.38,-89.75 102.38,-89.75 102.38,-68.5 59.38,-68.5\"/>\n",
       "<text text-anchor=\"start\" x=\"64.38\" y=\"-75.25\" font-family=\"Linux libertine\" font-size=\"10.00\">output: </text>\n",
       "<polygon fill=\"none\" stroke=\"black\" points=\"102.38,-68.5 102.38,-89.75 170.12,-89.75 170.12,-68.5 102.38,-68.5\"/>\n",
       "<text text-anchor=\"start\" x=\"107.38\" y=\"-75.25\" font-family=\"Linux libertine\" font-size=\"10.00\">(1, 1000, 20) </text>\n",
       "</g>\n",
       "<!-- 10&#45;&gt;11 -->\n",
       "<g id=\"edge13\" class=\"edge\">\n",
       "<title>10&#45;&gt;11</title>\n",
       "<path fill=\"none\" stroke=\"black\" d=\"M85.75,-147.15C85.75,-139.57 85.75,-130.75 85.75,-122.36\"/>\n",
       "<polygon fill=\"black\" stroke=\"black\" points=\"89.25,-122.49 85.75,-112.49 82.25,-122.49 89.25,-122.49\"/>\n",
       "</g>\n",
       "<!-- 12 -->\n",
       "<g id=\"node13\" class=\"node\">\n",
       "<title>12</title>\n",
       "<polygon fill=\"lightyellow\" stroke=\"none\" points=\"151.62,-32.5 19.88,-32.5 19.88,0 151.62,0 151.62,-32.5\"/>\n",
       "<polygon fill=\"none\" stroke=\"black\" points=\"19.88,0 19.88,-32.5 86.88,-32.5 86.88,0 19.88,0\"/>\n",
       "<text text-anchor=\"start\" x=\"24.88\" y=\"-18\" font-family=\"Linux libertine\" font-size=\"10.00\">output&#45;tensor</text>\n",
       "<text text-anchor=\"start\" x=\"37.25\" y=\"-6.75\" font-family=\"Linux libertine\" font-size=\"10.00\">depth:0</text>\n",
       "<polygon fill=\"none\" stroke=\"black\" points=\"86.88,0 86.88,-32.5 151.62,-32.5 151.62,0 86.88,0\"/>\n",
       "<text text-anchor=\"start\" x=\"91.88\" y=\"-12.38\" font-family=\"Linux libertine\" font-size=\"10.00\">(1, 1000, 20)</text>\n",
       "</g>\n",
       "<!-- 11&#45;&gt;12 -->\n",
       "<g id=\"edge14\" class=\"edge\">\n",
       "<title>11&#45;&gt;12</title>\n",
       "<path fill=\"none\" stroke=\"black\" d=\"M85.75,-68.83C85.75,-61.06 85.75,-52.03 85.75,-43.73\"/>\n",
       "<polygon fill=\"black\" stroke=\"black\" points=\"89.25,-43.81 85.75,-33.81 82.25,-43.81 89.25,-43.81\"/>\n",
       "</g>\n",
       "</g>\n",
       "</svg>\n"
      ],
      "text/plain": [
       "<graphviz.graphs.Digraph at 0x14ca45160>"
      ]
     },
     "execution_count": 268,
     "metadata": {},
     "output_type": "execute_result"
    }
   ],
   "source": [
    "m"
   ]
  },
  {
   "cell_type": "code",
   "execution_count": 216,
   "id": "ccc55e52",
   "metadata": {},
   "outputs": [
    {
     "data": {
      "text/plain": [
       "'model.gv.svg'"
      ]
     },
     "execution_count": 216,
     "metadata": {},
     "output_type": "execute_result"
    }
   ],
   "source": [
    "m.render(format='svg', )"
   ]
  },
  {
   "cell_type": "markdown",
   "id": "560f719e",
   "metadata": {},
   "source": [
    "## test trained model"
   ]
  },
  {
   "cell_type": "code",
   "execution_count": 23,
   "id": "5768f377",
   "metadata": {},
   "outputs": [
    {
     "name": "stdout",
     "output_type": "stream",
     "text": [
      "Test Accuracy: 69.48529411764706 %\n"
     ]
    }
   ],
   "source": [
    "model.eval()\n",
    "correct = 0\n",
    "total = 0\n",
    "with torch.no_grad():\n",
    "    for inputs, labels in test_loader:\n",
    "        inputs, labels = inputs.to(device), labels.to(device)\n",
    "        outputs = model(inputs)\n",
    "        _, predicted = torch.max(outputs, 1)\n",
    "        total += labels.size(0)\n",
    "        correct += (predicted == labels).sum().item()\n",
    "\n",
    "print(f'Test Accuracy: {100 * correct / total} %')"
   ]
  },
  {
   "cell_type": "markdown",
   "id": "76aaa0aa",
   "metadata": {},
   "source": [
    "## save trained model"
   ]
  },
  {
   "cell_type": "code",
   "execution_count": 25,
   "id": "177d729f",
   "metadata": {},
   "outputs": [],
   "source": [
    "torch.save(model.state_dict(), 'audio_classification_model.pth')"
   ]
  },
  {
   "cell_type": "markdown",
   "id": "5b82a636-bba9-459a-abf0-b2c0f00ca8da",
   "metadata": {},
   "source": [
    "## load saved model"
   ]
  },
  {
   "cell_type": "code",
   "execution_count": 316,
   "id": "3ea8a66c-795c-4f28-baf6-d2bfa676c1e2",
   "metadata": {},
   "outputs": [
    {
     "name": "stderr",
     "output_type": "stream",
     "text": [
      "/opt/anaconda3/lib/python3.12/site-packages/torch/nn/modules/transformer.py:379: UserWarning: enable_nested_tensor is True, but self.use_nested_tensor is False because encoder_layer.self_attn.batch_first was not True(use batch_first for better inference performance)\n",
      "  warnings.warn(\n",
      "/var/folders/4v/h808km254mb5ws5bw0w90t240000gn/T/ipykernel_73530/333483820.py:2: FutureWarning: You are using `torch.load` with `weights_only=False` (the current default value), which uses the default pickle module implicitly. It is possible to construct malicious pickle data which will execute arbitrary code during unpickling (See https://github.com/pytorch/pytorch/blob/main/SECURITY.md#untrusted-models for more details). In a future release, the default value for `weights_only` will be flipped to `True`. This limits the functions that could be executed during unpickling. Arbitrary objects will no longer be allowed to be loaded via this mode unless they are explicitly allowlisted by the user via `torch.serialization.add_safe_globals`. We recommend you start setting `weights_only=True` for any use case where you don't have full control of the loaded file. Please open an issue on GitHub for any issues related to this experimental feature.\n",
      "  model.load_state_dict(torch.load('audio_classification_model.pth'))\n"
     ]
    },
    {
     "data": {
      "text/plain": [
       "<All keys matched successfully>"
      ]
     },
     "execution_count": 316,
     "metadata": {},
     "output_type": "execute_result"
    }
   ],
   "source": [
    "model = AudioTransformer(n_mels=N_MFCC, n_classes=2).to(device)\n",
    "model.load_state_dict(torch.load('audio_classification_model.pth'))"
   ]
  },
  {
   "cell_type": "code",
   "execution_count": 392,
   "id": "0d0ac3d6-a5d5-4e68-af9f-644ef52d8c78",
   "metadata": {},
   "outputs": [
    {
     "data": {
      "text/plain": [
       "AudioTransformer(\n",
       "  (transformer_encoder): TransformerEncoder(\n",
       "    (layers): ModuleList(\n",
       "      (0): TransformerEncoderLayer(\n",
       "        (self_attn): MultiheadAttention(\n",
       "          (out_proj): NonDynamicallyQuantizableLinear(in_features=20, out_features=20, bias=True)\n",
       "        )\n",
       "        (linear1): Linear(in_features=20, out_features=64, bias=True)\n",
       "        (dropout): Dropout(p=0.1, inplace=False)\n",
       "        (linear2): Linear(in_features=64, out_features=20, bias=True)\n",
       "        (norm1): LayerNorm((20,), eps=1e-05, elementwise_affine=True)\n",
       "        (norm2): LayerNorm((20,), eps=1e-05, elementwise_affine=True)\n",
       "        (dropout1): Dropout(p=0.1, inplace=False)\n",
       "        (dropout2): Dropout(p=0.1, inplace=False)\n",
       "      )\n",
       "    )\n",
       "  )\n",
       "  (fc): Linear(in_features=20, out_features=2, bias=True)\n",
       ")"
      ]
     },
     "execution_count": 392,
     "metadata": {},
     "output_type": "execute_result"
    }
   ],
   "source": [
    "model"
   ]
  },
  {
   "cell_type": "markdown",
   "id": "7ae3aaf6",
   "metadata": {},
   "source": [
    "## run prediction on unseen data (genuine audio sample)"
   ]
  },
  {
   "cell_type": "code",
   "execution_count": 28,
   "id": "3cd28882",
   "metadata": {},
   "outputs": [
    {
     "name": "stdout",
     "output_type": "stream",
     "text": [
      "The model predicts the audio is: fake\n"
     ]
    }
   ],
   "source": [
    "import torchaudio\n",
    "import torch\n",
    "import torchaudio.transforms as transforms\n",
    "\n",
    "def preprocess_audio(file_path):\n",
    "    waveform, sample_rate = torchaudio.load(file_path)\n",
    "    \n",
    "    # Convert to mono if the audio has multiple channels\n",
    "    if waveform.shape[0] > 1:\n",
    "        waveform = torch.mean(waveform, dim=0, keepdim=True)\n",
    "    \n",
    "    # Resample to 16000 Hz if necessary\n",
    "    if sample_rate != 16000:\n",
    "        resample_transform = torchaudio.transforms.Resample(orig_freq=sample_rate, new_freq=16000)\n",
    "        waveform = resample_transform(waveform)\n",
    "    \n",
    "    # Extract MFCCs\n",
    "    mfcc_transform = transforms.MFCC(\n",
    "        sample_rate=16000, \n",
    "        n_mfcc=N_MFCC, \n",
    "        melkwargs=melkwargs\n",
    "    )\n",
    "    mfcc = mfcc_transform(waveform)\n",
    "    \n",
    "    # Transpose to [time_steps, n_mels] for transformer input\n",
    "    mfcc = mfcc.squeeze(0).transpose(0, 1)  # Squeeze channel and transpose\n",
    "\n",
    "    # Return the tensor on the specified device, with an added batch dimension\n",
    "    return mfcc.unsqueeze(0).to(device)  # Shape [1, time_steps, n_mels]"
   ]
  },
  {
   "cell_type": "markdown",
   "id": "ed796289",
   "metadata": {},
   "source": [
    "## try an unseen real audio sample"
   ]
  },
  {
   "cell_type": "code",
   "execution_count": 380,
   "id": "3c22bc28-e251-4924-abde-14119a7884dd",
   "metadata": {},
   "outputs": [
    {
     "name": "stdout",
     "output_type": "stream",
     "text": [
      "Input part 0\n",
      "The model predicts the audio is: real\n",
      "Input part 1\n",
      "The model predicts the audio is: real\n",
      "Input part 2\n",
      "The model predicts the audio is: real\n",
      "Input part 3\n",
      "The model predicts the audio is: real\n",
      "Input part 4\n",
      "The model predicts the audio is: real\n",
      "Input part 5\n",
      "The model predicts the audio is: real\n",
      "Input part 6\n",
      "The model predicts the audio is: real\n"
     ]
    }
   ],
   "source": [
    "K = 1000\n",
    "new_audio_file = '/Users/ashish/Downloads/archive_1/KAGGLE/AUDIO/REAL/ryan-original.wav'\n",
    "input_tensor = preprocess_audio(new_audio_file)\n",
    "for i in range(len(input_tensor[0])//K):\n",
    "    print(f\"Input part {i}\")\n",
    "    with torch.no_grad():\n",
    "        output = model(input_tensor[:, i*K:(i+1)*K, :])\n",
    "        _, predicted = torch.max(output, 1)\n",
    "\n",
    "    classes = ['real', 'fake']\n",
    "    predicted_label = classes[predicted.item()]\n",
    "\n",
    "    print(f\"The model predicts the audio is: {predicted_label}\")"
   ]
  },
  {
   "cell_type": "markdown",
   "id": "c6957981-1a71-41f7-8da8-3b7d705528ad",
   "metadata": {},
   "source": [
    "## try an unseen fake audio sample"
   ]
  },
  {
   "cell_type": "code",
   "execution_count": 382,
   "id": "68f9a0b5",
   "metadata": {},
   "outputs": [
    {
     "name": "stdout",
     "output_type": "stream",
     "text": [
      "Input part 0\n",
      "The model predicts the audio is: fake\n",
      "Input part 1\n",
      "The model predicts the audio is: real\n",
      "Input part 2\n",
      "The model predicts the audio is: fake\n",
      "Input part 3\n",
      "The model predicts the audio is: fake\n",
      "Input part 4\n",
      "The model predicts the audio is: fake\n",
      "Input part 5\n",
      "The model predicts the audio is: fake\n",
      "Input part 6\n",
      "The model predicts the audio is: fake\n"
     ]
    }
   ],
   "source": [
    "K = 1000\n",
    "new_audio_file = '/Users/ashish/Downloads/archive_1/KAGGLE/AUDIO/FAKE/ryan-to-margot.wav'\n",
    "input_tensor = preprocess_audio(new_audio_file)\n",
    "for i in range(len(input_tensor[0])//K):\n",
    "    print(f\"Input part {i}\")\n",
    "    with torch.no_grad():\n",
    "        output = model(input_tensor[:, i*K:(i+1)*K, :])\n",
    "        _, predicted = torch.max(output, 1)\n",
    "\n",
    "    classes = ['real', 'fake']\n",
    "    predicted_label = classes[predicted.item()]\n",
    "\n",
    "    print(f\"The model predicts the audio is: {predicted_label}\")"
   ]
  },
  {
   "cell_type": "code",
   "execution_count": null,
   "id": "4e9da91b",
   "metadata": {},
   "outputs": [],
   "source": []
  },
  {
   "cell_type": "code",
   "execution_count": null,
   "id": "8f98528d",
   "metadata": {},
   "outputs": [],
   "source": []
  }
 ],
 "metadata": {
  "kernelspec": {
   "display_name": "Python 3 (ipykernel)",
   "language": "python",
   "name": "python3"
  },
  "language_info": {
   "codemirror_mode": {
    "name": "ipython",
    "version": 3
   },
   "file_extension": ".py",
   "mimetype": "text/x-python",
   "name": "python",
   "nbconvert_exporter": "python",
   "pygments_lexer": "ipython3",
   "version": "3.12.7"
  }
 },
 "nbformat": 4,
 "nbformat_minor": 5
}
