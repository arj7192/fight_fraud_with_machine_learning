{
 "cells": [
  {
   "cell_type": "markdown",
   "id": "f1f5379b",
   "metadata": {},
   "source": [
    "## Tensorflow code"
   ]
  },
  {
   "cell_type": "code",
   "execution_count": null,
   "id": "12d01601",
   "metadata": {},
   "outputs": [],
   "source": [
    "import tensorflow as tf\n",
    "\n",
    "# Define the architecture of the neural network\n",
    "input_size = 8\n",
    "hidden_layer_sizes = [9, 9, 9]\n",
    "output_size = 1\n",
    "\n",
    "# Initialize a Sequential model\n",
    "model = tf.keras.Sequential()\n",
    "\n",
    "# Add the input layer\n",
    "model.add(tf.keras.layers.InputLayer(input_shape=(input_size,)))\n",
    "\n",
    "# Add three hidden layers with sigmoid activation\n",
    "for layer_size in hidden_layer_sizes:\n",
    "    model.add(tf.keras.layers.Dense(layer_size, activation='sigmoid'))\n",
    "\n",
    "# Add the output layer with sigmoid activation\n",
    "model.add(tf.keras.layers.Dense(output_size, activation='sigmoid'))\n",
    "\n",
    "# Compile the model\n",
    "model.compile(optimizer='adam', loss='binary_crossentropy', metrics=['accuracy'])\n",
    "\n",
    "# Print the model summary\n",
    "model.summary()\n"
   ]
  },
  {
   "cell_type": "markdown",
   "id": "56e712bd",
   "metadata": {},
   "source": [
    "## PyTorch code"
   ]
  },
  {
   "cell_type": "code",
   "execution_count": 1,
   "id": "1766ccb4",
   "metadata": {},
   "outputs": [
    {
     "name": "stdout",
     "output_type": "stream",
     "text": [
      "NeuralNetwork(\n",
      "  (layers): ModuleList(\n",
      "    (0): Linear(in_features=8, out_features=9, bias=True)\n",
      "    (1): Sigmoid()\n",
      "    (2): Linear(in_features=9, out_features=9, bias=True)\n",
      "    (3): Sigmoid()\n",
      "    (4): Linear(in_features=9, out_features=9, bias=True)\n",
      "    (5): Sigmoid()\n",
      "    (6): Linear(in_features=9, out_features=1, bias=True)\n",
      "    (7): Sigmoid()\n",
      "  )\n",
      ")\n"
     ]
    }
   ],
   "source": [
    "import torch\n",
    "import torch.nn as nn\n",
    "\n",
    "# Define the architecture of the neural network\n",
    "input_size = 8\n",
    "hidden_layer_sizes = [9, 9, 9]\n",
    "output_size = 1\n",
    "\n",
    "class NeuralNetwork(nn.Module):\n",
    "    def __init__(self):\n",
    "        super(NeuralNetwork, self).__init__()\n",
    "        self.layers = nn.ModuleList()\n",
    "        \n",
    "        # Add the input layer\n",
    "        self.layers.append(nn.Linear(input_size, hidden_layer_sizes[0]))\n",
    "        self.layers.append(nn.Sigmoid())\n",
    "        \n",
    "        # Add three hidden layers with sigmoid activation\n",
    "        for i in range(len(hidden_layer_sizes) - 1):\n",
    "            self.layers.append(nn.Linear(hidden_layer_sizes[i], hidden_layer_sizes[i+1]))\n",
    "            self.layers.append(nn.Sigmoid())\n",
    "        \n",
    "        # Add the output layer with sigmoid activation\n",
    "        self.layers.append(nn.Linear(hidden_layer_sizes[-1], output_size))\n",
    "        self.layers.append(nn.Sigmoid())\n",
    "        \n",
    "    def forward(self, x):\n",
    "        for layer in self.layers:\n",
    "            x = layer(x)\n",
    "        return x\n",
    "\n",
    "# Instantiate the neural network model\n",
    "model = NeuralNetwork()\n",
    "\n",
    "# Print the model architecture\n",
    "print(model)"
   ]
  },
  {
   "cell_type": "code",
   "execution_count": null,
   "id": "124a2311",
   "metadata": {},
   "outputs": [],
   "source": []
  }
 ],
 "metadata": {
  "kernelspec": {
   "display_name": "Python 3 (ipykernel)",
   "language": "python",
   "name": "python3"
  },
  "language_info": {
   "codemirror_mode": {
    "name": "ipython",
    "version": 3
   },
   "file_extension": ".py",
   "mimetype": "text/x-python",
   "name": "python",
   "nbconvert_exporter": "python",
   "pygments_lexer": "ipython3",
   "version": "3.11.2"
  }
 },
 "nbformat": 4,
 "nbformat_minor": 5
}
