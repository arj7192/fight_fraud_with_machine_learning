{
 "cells": [
  {
   "cell_type": "code",
   "execution_count": 1,
   "id": "0ee9d3d4",
   "metadata": {},
   "outputs": [
    {
     "data": {
      "text/html": [
       "<style>.container { width:100% !important; }</style>"
      ],
      "text/plain": [
       "<IPython.core.display.HTML object>"
      ]
     },
     "metadata": {},
     "output_type": "display_data"
    }
   ],
   "source": [
    "# pip install -r requirements.txt\n",
    "\n",
    "# setting up the notebook width to 100% of the screen\n",
    "from IPython.display import display, HTML\n",
    "display(HTML(\"<style>.container { width:100% !important; }</style>\"))"
   ]
  },
  {
   "cell_type": "code",
   "execution_count": 2,
   "id": "9a8bc544",
   "metadata": {},
   "outputs": [],
   "source": [
    "import pandas as pd\n",
    "\n",
    "# you can change this to larger number, I kept a small value for good aspect ratio for book figures\n",
    "pd.set_option('display.max_columns', 10)"
   ]
  },
  {
   "cell_type": "code",
   "execution_count": 3,
   "id": "74f14fc9",
   "metadata": {},
   "outputs": [],
   "source": [
    "df = pd.read_csv(\"./phishing_dataset.csv\")"
   ]
  },
  {
   "cell_type": "code",
   "execution_count": 4,
   "id": "61e2ddea",
   "metadata": {},
   "outputs": [
    {
     "data": {
      "text/html": [
       "<div>\n",
       "<style scoped>\n",
       "    .dataframe tbody tr th:only-of-type {\n",
       "        vertical-align: middle;\n",
       "    }\n",
       "\n",
       "    .dataframe tbody tr th {\n",
       "        vertical-align: top;\n",
       "    }\n",
       "\n",
       "    .dataframe thead th {\n",
       "        text-align: right;\n",
       "    }\n",
       "</style>\n",
       "<table border=\"1\" class=\"dataframe\">\n",
       "  <thead>\n",
       "    <tr style=\"text-align: right;\">\n",
       "      <th></th>\n",
       "      <th>id</th>\n",
       "      <th>NumDots</th>\n",
       "      <th>SubdomainLevel</th>\n",
       "      <th>PathLevel</th>\n",
       "      <th>UrlLength</th>\n",
       "      <th>...</th>\n",
       "      <th>PctExtResourceUrlsRT</th>\n",
       "      <th>AbnormalExtFormActionR</th>\n",
       "      <th>ExtMetaScriptLinkRT</th>\n",
       "      <th>PctExtNullSelfRedirectHyperlinksRT</th>\n",
       "      <th>CLASS_LABEL</th>\n",
       "    </tr>\n",
       "  </thead>\n",
       "  <tbody>\n",
       "    <tr>\n",
       "      <th>0</th>\n",
       "      <td>1</td>\n",
       "      <td>3</td>\n",
       "      <td>1</td>\n",
       "      <td>5</td>\n",
       "      <td>72</td>\n",
       "      <td>...</td>\n",
       "      <td>1</td>\n",
       "      <td>1</td>\n",
       "      <td>-1</td>\n",
       "      <td>1</td>\n",
       "      <td>1</td>\n",
       "    </tr>\n",
       "    <tr>\n",
       "      <th>1</th>\n",
       "      <td>2</td>\n",
       "      <td>3</td>\n",
       "      <td>1</td>\n",
       "      <td>3</td>\n",
       "      <td>144</td>\n",
       "      <td>...</td>\n",
       "      <td>1</td>\n",
       "      <td>1</td>\n",
       "      <td>1</td>\n",
       "      <td>1</td>\n",
       "      <td>1</td>\n",
       "    </tr>\n",
       "    <tr>\n",
       "      <th>2</th>\n",
       "      <td>3</td>\n",
       "      <td>3</td>\n",
       "      <td>1</td>\n",
       "      <td>2</td>\n",
       "      <td>58</td>\n",
       "      <td>...</td>\n",
       "      <td>-1</td>\n",
       "      <td>1</td>\n",
       "      <td>-1</td>\n",
       "      <td>0</td>\n",
       "      <td>1</td>\n",
       "    </tr>\n",
       "    <tr>\n",
       "      <th>3</th>\n",
       "      <td>4</td>\n",
       "      <td>3</td>\n",
       "      <td>1</td>\n",
       "      <td>6</td>\n",
       "      <td>79</td>\n",
       "      <td>...</td>\n",
       "      <td>1</td>\n",
       "      <td>1</td>\n",
       "      <td>1</td>\n",
       "      <td>-1</td>\n",
       "      <td>1</td>\n",
       "    </tr>\n",
       "    <tr>\n",
       "      <th>4</th>\n",
       "      <td>5</td>\n",
       "      <td>3</td>\n",
       "      <td>0</td>\n",
       "      <td>4</td>\n",
       "      <td>46</td>\n",
       "      <td>...</td>\n",
       "      <td>-1</td>\n",
       "      <td>0</td>\n",
       "      <td>-1</td>\n",
       "      <td>-1</td>\n",
       "      <td>1</td>\n",
       "    </tr>\n",
       "    <tr>\n",
       "      <th>5</th>\n",
       "      <td>6</td>\n",
       "      <td>3</td>\n",
       "      <td>1</td>\n",
       "      <td>1</td>\n",
       "      <td>42</td>\n",
       "      <td>...</td>\n",
       "      <td>1</td>\n",
       "      <td>1</td>\n",
       "      <td>-1</td>\n",
       "      <td>1</td>\n",
       "      <td>1</td>\n",
       "    </tr>\n",
       "    <tr>\n",
       "      <th>6</th>\n",
       "      <td>7</td>\n",
       "      <td>2</td>\n",
       "      <td>0</td>\n",
       "      <td>5</td>\n",
       "      <td>60</td>\n",
       "      <td>...</td>\n",
       "      <td>1</td>\n",
       "      <td>1</td>\n",
       "      <td>-1</td>\n",
       "      <td>-1</td>\n",
       "      <td>1</td>\n",
       "    </tr>\n",
       "    <tr>\n",
       "      <th>7</th>\n",
       "      <td>8</td>\n",
       "      <td>1</td>\n",
       "      <td>0</td>\n",
       "      <td>3</td>\n",
       "      <td>30</td>\n",
       "      <td>...</td>\n",
       "      <td>1</td>\n",
       "      <td>1</td>\n",
       "      <td>1</td>\n",
       "      <td>1</td>\n",
       "      <td>1</td>\n",
       "    </tr>\n",
       "    <tr>\n",
       "      <th>8</th>\n",
       "      <td>9</td>\n",
       "      <td>8</td>\n",
       "      <td>7</td>\n",
       "      <td>2</td>\n",
       "      <td>76</td>\n",
       "      <td>...</td>\n",
       "      <td>1</td>\n",
       "      <td>1</td>\n",
       "      <td>1</td>\n",
       "      <td>-1</td>\n",
       "      <td>1</td>\n",
       "    </tr>\n",
       "    <tr>\n",
       "      <th>9</th>\n",
       "      <td>10</td>\n",
       "      <td>2</td>\n",
       "      <td>0</td>\n",
       "      <td>2</td>\n",
       "      <td>46</td>\n",
       "      <td>...</td>\n",
       "      <td>1</td>\n",
       "      <td>1</td>\n",
       "      <td>-1</td>\n",
       "      <td>-1</td>\n",
       "      <td>1</td>\n",
       "    </tr>\n",
       "  </tbody>\n",
       "</table>\n",
       "<p>10 rows × 50 columns</p>\n",
       "</div>"
      ],
      "text/plain": [
       "   id  NumDots  SubdomainLevel  PathLevel  UrlLength  ...  \\\n",
       "0   1        3               1          5         72  ...   \n",
       "1   2        3               1          3        144  ...   \n",
       "2   3        3               1          2         58  ...   \n",
       "3   4        3               1          6         79  ...   \n",
       "4   5        3               0          4         46  ...   \n",
       "5   6        3               1          1         42  ...   \n",
       "6   7        2               0          5         60  ...   \n",
       "7   8        1               0          3         30  ...   \n",
       "8   9        8               7          2         76  ...   \n",
       "9  10        2               0          2         46  ...   \n",
       "\n",
       "   PctExtResourceUrlsRT  AbnormalExtFormActionR  ExtMetaScriptLinkRT  \\\n",
       "0                     1                       1                   -1   \n",
       "1                     1                       1                    1   \n",
       "2                    -1                       1                   -1   \n",
       "3                     1                       1                    1   \n",
       "4                    -1                       0                   -1   \n",
       "5                     1                       1                   -1   \n",
       "6                     1                       1                   -1   \n",
       "7                     1                       1                    1   \n",
       "8                     1                       1                    1   \n",
       "9                     1                       1                   -1   \n",
       "\n",
       "   PctExtNullSelfRedirectHyperlinksRT  CLASS_LABEL  \n",
       "0                                   1            1  \n",
       "1                                   1            1  \n",
       "2                                   0            1  \n",
       "3                                  -1            1  \n",
       "4                                  -1            1  \n",
       "5                                   1            1  \n",
       "6                                  -1            1  \n",
       "7                                   1            1  \n",
       "8                                  -1            1  \n",
       "9                                  -1            1  \n",
       "\n",
       "[10 rows x 50 columns]"
      ]
     },
     "execution_count": 4,
     "metadata": {},
     "output_type": "execute_result"
    }
   ],
   "source": [
    "df.head(10)"
   ]
  },
  {
   "cell_type": "code",
   "execution_count": 5,
   "id": "aafa6f5c",
   "metadata": {},
   "outputs": [
    {
     "data": {
      "text/html": [
       "<div>\n",
       "<style scoped>\n",
       "    .dataframe tbody tr th:only-of-type {\n",
       "        vertical-align: middle;\n",
       "    }\n",
       "\n",
       "    .dataframe tbody tr th {\n",
       "        vertical-align: top;\n",
       "    }\n",
       "\n",
       "    .dataframe thead th {\n",
       "        text-align: right;\n",
       "    }\n",
       "</style>\n",
       "<table border=\"1\" class=\"dataframe\">\n",
       "  <thead>\n",
       "    <tr style=\"text-align: right;\">\n",
       "      <th></th>\n",
       "      <th>id</th>\n",
       "      <th>NumDots</th>\n",
       "      <th>SubdomainLevel</th>\n",
       "      <th>PathLevel</th>\n",
       "      <th>UrlLength</th>\n",
       "      <th>...</th>\n",
       "      <th>PctExtResourceUrlsRT</th>\n",
       "      <th>AbnormalExtFormActionR</th>\n",
       "      <th>ExtMetaScriptLinkRT</th>\n",
       "      <th>PctExtNullSelfRedirectHyperlinksRT</th>\n",
       "      <th>CLASS_LABEL</th>\n",
       "    </tr>\n",
       "  </thead>\n",
       "  <tbody>\n",
       "    <tr>\n",
       "      <th>count</th>\n",
       "      <td>10000.00000</td>\n",
       "      <td>10000.000000</td>\n",
       "      <td>10000.000000</td>\n",
       "      <td>10000.000000</td>\n",
       "      <td>10000.000000</td>\n",
       "      <td>...</td>\n",
       "      <td>10000.000000</td>\n",
       "      <td>10000.000000</td>\n",
       "      <td>10000.000000</td>\n",
       "      <td>10000.000000</td>\n",
       "      <td>10000.000000</td>\n",
       "    </tr>\n",
       "    <tr>\n",
       "      <th>mean</th>\n",
       "      <td>5000.50000</td>\n",
       "      <td>2.445100</td>\n",
       "      <td>0.586800</td>\n",
       "      <td>3.300300</td>\n",
       "      <td>70.264100</td>\n",
       "      <td>...</td>\n",
       "      <td>0.353300</td>\n",
       "      <td>0.793200</td>\n",
       "      <td>0.173400</td>\n",
       "      <td>0.314100</td>\n",
       "      <td>0.500000</td>\n",
       "    </tr>\n",
       "    <tr>\n",
       "      <th>std</th>\n",
       "      <td>2886.89568</td>\n",
       "      <td>1.346836</td>\n",
       "      <td>0.751214</td>\n",
       "      <td>1.863241</td>\n",
       "      <td>33.369877</td>\n",
       "      <td>...</td>\n",
       "      <td>0.888908</td>\n",
       "      <td>0.521019</td>\n",
       "      <td>0.755771</td>\n",
       "      <td>0.897843</td>\n",
       "      <td>0.500025</td>\n",
       "    </tr>\n",
       "    <tr>\n",
       "      <th>min</th>\n",
       "      <td>1.00000</td>\n",
       "      <td>1.000000</td>\n",
       "      <td>0.000000</td>\n",
       "      <td>0.000000</td>\n",
       "      <td>12.000000</td>\n",
       "      <td>...</td>\n",
       "      <td>-1.000000</td>\n",
       "      <td>-1.000000</td>\n",
       "      <td>-1.000000</td>\n",
       "      <td>-1.000000</td>\n",
       "      <td>0.000000</td>\n",
       "    </tr>\n",
       "    <tr>\n",
       "      <th>25%</th>\n",
       "      <td>2500.75000</td>\n",
       "      <td>2.000000</td>\n",
       "      <td>0.000000</td>\n",
       "      <td>2.000000</td>\n",
       "      <td>48.000000</td>\n",
       "      <td>...</td>\n",
       "      <td>-1.000000</td>\n",
       "      <td>1.000000</td>\n",
       "      <td>0.000000</td>\n",
       "      <td>-1.000000</td>\n",
       "      <td>0.000000</td>\n",
       "    </tr>\n",
       "    <tr>\n",
       "      <th>50%</th>\n",
       "      <td>5000.50000</td>\n",
       "      <td>2.000000</td>\n",
       "      <td>1.000000</td>\n",
       "      <td>3.000000</td>\n",
       "      <td>62.000000</td>\n",
       "      <td>...</td>\n",
       "      <td>1.000000</td>\n",
       "      <td>1.000000</td>\n",
       "      <td>0.000000</td>\n",
       "      <td>1.000000</td>\n",
       "      <td>0.500000</td>\n",
       "    </tr>\n",
       "    <tr>\n",
       "      <th>75%</th>\n",
       "      <td>7500.25000</td>\n",
       "      <td>3.000000</td>\n",
       "      <td>1.000000</td>\n",
       "      <td>4.000000</td>\n",
       "      <td>84.000000</td>\n",
       "      <td>...</td>\n",
       "      <td>1.000000</td>\n",
       "      <td>1.000000</td>\n",
       "      <td>1.000000</td>\n",
       "      <td>1.000000</td>\n",
       "      <td>1.000000</td>\n",
       "    </tr>\n",
       "    <tr>\n",
       "      <th>max</th>\n",
       "      <td>10000.00000</td>\n",
       "      <td>21.000000</td>\n",
       "      <td>14.000000</td>\n",
       "      <td>18.000000</td>\n",
       "      <td>253.000000</td>\n",
       "      <td>...</td>\n",
       "      <td>1.000000</td>\n",
       "      <td>1.000000</td>\n",
       "      <td>1.000000</td>\n",
       "      <td>1.000000</td>\n",
       "      <td>1.000000</td>\n",
       "    </tr>\n",
       "  </tbody>\n",
       "</table>\n",
       "<p>8 rows × 50 columns</p>\n",
       "</div>"
      ],
      "text/plain": [
       "                id       NumDots  SubdomainLevel     PathLevel     UrlLength  \\\n",
       "count  10000.00000  10000.000000    10000.000000  10000.000000  10000.000000   \n",
       "mean    5000.50000      2.445100        0.586800      3.300300     70.264100   \n",
       "std     2886.89568      1.346836        0.751214      1.863241     33.369877   \n",
       "min        1.00000      1.000000        0.000000      0.000000     12.000000   \n",
       "25%     2500.75000      2.000000        0.000000      2.000000     48.000000   \n",
       "50%     5000.50000      2.000000        1.000000      3.000000     62.000000   \n",
       "75%     7500.25000      3.000000        1.000000      4.000000     84.000000   \n",
       "max    10000.00000     21.000000       14.000000     18.000000    253.000000   \n",
       "\n",
       "       ...  PctExtResourceUrlsRT  AbnormalExtFormActionR  ExtMetaScriptLinkRT  \\\n",
       "count  ...          10000.000000            10000.000000         10000.000000   \n",
       "mean   ...              0.353300                0.793200             0.173400   \n",
       "std    ...              0.888908                0.521019             0.755771   \n",
       "min    ...             -1.000000               -1.000000            -1.000000   \n",
       "25%    ...             -1.000000                1.000000             0.000000   \n",
       "50%    ...              1.000000                1.000000             0.000000   \n",
       "75%    ...              1.000000                1.000000             1.000000   \n",
       "max    ...              1.000000                1.000000             1.000000   \n",
       "\n",
       "       PctExtNullSelfRedirectHyperlinksRT   CLASS_LABEL  \n",
       "count                        10000.000000  10000.000000  \n",
       "mean                             0.314100      0.500000  \n",
       "std                              0.897843      0.500025  \n",
       "min                             -1.000000      0.000000  \n",
       "25%                             -1.000000      0.000000  \n",
       "50%                              1.000000      0.500000  \n",
       "75%                              1.000000      1.000000  \n",
       "max                              1.000000      1.000000  \n",
       "\n",
       "[8 rows x 50 columns]"
      ]
     },
     "execution_count": 5,
     "metadata": {},
     "output_type": "execute_result"
    }
   ],
   "source": [
    "df.describe(include=\"all\") "
   ]
  },
  {
   "cell_type": "code",
   "execution_count": 6,
   "id": "1dea65bd",
   "metadata": {
    "scrolled": false
   },
   "outputs": [
    {
     "data": {
      "text/plain": [
       "id                                      int64\n",
       "NumDots                                 int64\n",
       "SubdomainLevel                          int64\n",
       "PathLevel                               int64\n",
       "UrlLength                               int64\n",
       "NumDash                                 int64\n",
       "NumDashInHostname                       int64\n",
       "AtSymbol                                int64\n",
       "TildeSymbol                             int64\n",
       "NumUnderscore                           int64\n",
       "NumPercent                              int64\n",
       "NumQueryComponents                      int64\n",
       "NumAmpersand                            int64\n",
       "NumHash                                 int64\n",
       "NumNumericChars                         int64\n",
       "NoHttps                                 int64\n",
       "RandomString                            int64\n",
       "IpAddress                               int64\n",
       "DomainInSubdomains                      int64\n",
       "DomainInPaths                           int64\n",
       "HttpsInHostname                         int64\n",
       "HostnameLength                          int64\n",
       "PathLength                              int64\n",
       "QueryLength                             int64\n",
       "DoubleSlashInPath                       int64\n",
       "NumSensitiveWords                       int64\n",
       "EmbeddedBrandName                       int64\n",
       "PctExtHyperlinks                      float64\n",
       "PctExtResourceUrls                    float64\n",
       "ExtFavicon                              int64\n",
       "InsecureForms                           int64\n",
       "RelativeFormAction                      int64\n",
       "ExtFormAction                           int64\n",
       "AbnormalFormAction                      int64\n",
       "PctNullSelfRedirectHyperlinks         float64\n",
       "FrequentDomainNameMismatch              int64\n",
       "FakeLinkInStatusBar                     int64\n",
       "RightClickDisabled                      int64\n",
       "PopUpWindow                             int64\n",
       "SubmitInfoToEmail                       int64\n",
       "IframeOrFrame                           int64\n",
       "MissingTitle                            int64\n",
       "ImagesOnlyInForm                        int64\n",
       "SubdomainLevelRT                        int64\n",
       "UrlLengthRT                             int64\n",
       "PctExtResourceUrlsRT                    int64\n",
       "AbnormalExtFormActionR                  int64\n",
       "ExtMetaScriptLinkRT                     int64\n",
       "PctExtNullSelfRedirectHyperlinksRT      int64\n",
       "CLASS_LABEL                             int64\n",
       "dtype: object"
      ]
     },
     "execution_count": 6,
     "metadata": {},
     "output_type": "execute_result"
    }
   ],
   "source": [
    "df.dtypes"
   ]
  },
  {
   "cell_type": "code",
   "execution_count": 7,
   "id": "8b4dd31b",
   "metadata": {},
   "outputs": [],
   "source": [
    "binary_features = [col for col in df if df[col].dropna().value_counts().index.isin([0,1]).all() and col != \"CLASS_LABEL\"]"
   ]
  },
  {
   "cell_type": "code",
   "execution_count": 8,
   "id": "3b438a77",
   "metadata": {},
   "outputs": [
    {
     "name": "stderr",
     "output_type": "stream",
     "text": [
      "/Users/ashish.jha/opt/anaconda3/lib/python3.9/site-packages/scipy/__init__.py:146: UserWarning: A NumPy version >=1.16.5 and <1.23.0 is required for this version of SciPy (detected version 1.24.0\n",
      "  warnings.warn(f\"A NumPy version >={np_minversion} and <{np_maxversion}\"\n"
     ]
    },
    {
     "data": {
      "image/png": "[encoded data removed]",
      "text/plain": [
       "<Figure size 720x576 with 1 Axes>"
      ]
     },
     "metadata": {
      "needs_background": "light"
     },
     "output_type": "display_data"
    }
   ],
   "source": [
    "import matplotlib.pyplot as plt\n",
    "import seaborn as sns\n",
    "plt.figure(figsize=(10,8))\n",
    "\n",
    "accuracies = []\n",
    "for i in binary_features: \n",
    "    accuracy = sum(df.CLASS_LABEL == df[i]) / len(df) \n",
    "    accuracies.append((i, max(accuracy, 1-accuracy)))\n",
    "accuracies = sorted(accuracies, key=lambda c: c[1], reverse=True)\n",
    "sns.barplot( x=[c[1] for c in accuracies], y=[c[0] for c in accuracies]);"
   ]
  },
  {
   "cell_type": "code",
   "execution_count": 9,
   "id": "17be7b2c",
   "metadata": {},
   "outputs": [
    {
     "data": {
      "image/png": "[encoded data removed]",
      "text/plain": [
       "<Figure size 432x288 with 1 Axes>"
      ]
     },
     "metadata": {
      "needs_background": "light"
     },
     "output_type": "display_data"
    }
   ],
   "source": [
    "sns.countplot(data=df, x=\"FrequentDomainNameMismatch\", hue=\"CLASS_LABEL\"); "
   ]
  },
  {
   "cell_type": "code",
   "execution_count": 10,
   "id": "0621900a",
   "metadata": {},
   "outputs": [
    {
     "data": {
      "image/png": "[encoded data removed]",
      "text/plain": [
       "<Figure size 432x288 with 2 Axes>"
      ]
     },
     "metadata": {
      "needs_background": "light"
     },
     "output_type": "display_data"
    }
   ],
   "source": [
    "from sklearn.metrics import confusion_matrix\n",
    "cf_matrix = confusion_matrix(df.CLASS_LABEL, df.FrequentDomainNameMismatch)\n",
    "ax = sns.heatmap(cf_matrix, annot=True, fmt='4d', cmap='Blues')\n",
    "ax.set(ylabel='CLASS_LABEL', xlabel='FrequentDomainNameMismatch');"
   ]
  },
  {
   "cell_type": "code",
   "execution_count": 11,
   "id": "1b6d5ecb",
   "metadata": {},
   "outputs": [
    {
     "data": {
      "image/png": "[encoded data removed]",
      "text/plain": [
       "<Figure size 432x288 with 2 Axes>"
      ]
     },
     "metadata": {
      "needs_background": "light"
     },
     "output_type": "display_data"
    }
   ],
   "source": [
    "cf_matrix = confusion_matrix(df.CLASS_LABEL, df.SubmitInfoToEmail)\n",
    "ax = sns.heatmap(cf_matrix, annot=True, fmt='4d', cmap='Blues')\n",
    "ax.set(ylabel='CLASS_LABEL', xlabel='SubmitInfoToEmail');"
   ]
  },
  {
   "cell_type": "code",
   "execution_count": 12,
   "id": "6efa1ef0",
   "metadata": {},
   "outputs": [
    {
     "data": {
      "image/png": "[encoded data removed]",
      "text/plain": [
       "<Figure size 432x288 with 2 Axes>"
      ]
     },
     "metadata": {
      "needs_background": "light"
     },
     "output_type": "display_data"
    }
   ],
   "source": [
    "cf_matrix = confusion_matrix(df.CLASS_LABEL, df.HttpsInHostname)\n",
    "ax = sns.heatmap(cf_matrix, annot=True, fmt='4d', cmap='Blues')\n",
    "ax.set(ylabel='CLASS_LABEL', xlabel='HttpsInHostname');"
   ]
  },
  {
   "cell_type": "code",
   "execution_count": 13,
   "id": "c93496d9",
   "metadata": {},
   "outputs": [],
   "source": [
    "numerical_features = [col for col in df.columns if col not in ([\"id\", \"CLASS_LABEL\"] + binary_features)]"
   ]
  },
  {
   "cell_type": "code",
   "execution_count": 14,
   "id": "a20bd5b8",
   "metadata": {},
   "outputs": [
    {
     "data": {
      "image/png": "[encoded data removed]",
      "text/plain": [
       "<Figure size 720x576 with 1 Axes>"
      ]
     },
     "metadata": {
      "needs_background": "light"
     },
     "output_type": "display_data"
    }
   ],
   "source": [
    "from sklearn.feature_selection import f_classif, SelectKBest\n",
    "plt.figure(figsize=(10,8))\n",
    "\n",
    "fs = SelectKBest(score_func=f_classif)\n",
    "fs.fit(df[numerical_features], df.CLASS_LABEL)\n",
    "\n",
    "scores = zip(numerical_features, fs.scores_)\n",
    "scores = sorted(scores, key=lambda c: c[1], reverse=True)\n",
    "\n",
    "sns.barplot( x=[c[1] for c in scores], y=[c[0] for c in scores]);"
   ]
  },
  {
   "cell_type": "code",
   "execution_count": 15,
   "id": "fbdaf96b",
   "metadata": {},
   "outputs": [
    {
     "data": {
      "text/plain": [
       "array([ 1,  0, -1])"
      ]
     },
     "execution_count": 15,
     "metadata": {},
     "output_type": "execute_result"
    }
   ],
   "source": [
    "df.PctExtNullSelfRedirectHyperlinksRT.fillna(\"NONE\").unique()"
   ]
  },
  {
   "cell_type": "code",
   "execution_count": 16,
   "id": "6fee7e9c",
   "metadata": {
    "scrolled": false
   },
   "outputs": [
    {
     "data": {
      "image/png": "[encoded data removed]",
      "text/plain": [
       "<Figure size 432x288 with 1 Axes>"
      ]
     },
     "metadata": {
      "needs_background": "light"
     },
     "output_type": "display_data"
    }
   ],
   "source": [
    "sns.histplot(data=df, hue=\"CLASS_LABEL\", x=\"PctExtNullSelfRedirectHyperlinksRT\", kde=True);"
   ]
  },
  {
   "cell_type": "code",
   "execution_count": 17,
   "id": "355972ee",
   "metadata": {},
   "outputs": [
    {
     "data": {
      "image/png": "[encoded data removed]",
      "text/plain": [
       "<Figure size 432x288 with 1 Axes>"
      ]
     },
     "metadata": {
      "needs_background": "light"
     },
     "output_type": "display_data"
    }
   ],
   "source": [
    "sns.countplot(data=df, x=\"PctExtNullSelfRedirectHyperlinksRT\", hue=\"CLASS_LABEL\"); "
   ]
  },
  {
   "cell_type": "code",
   "execution_count": 18,
   "id": "dde4440e",
   "metadata": {},
   "outputs": [
    {
     "data": {
      "text/plain": [
       "array([ 0,  1,  2,  3, 11,  4,  5,  7,  6, 13,  8, 20, 15,  9, 12, 10, 17,\n",
       "       16, 14, 26, 24, 19, 18, 55, 23])"
      ]
     },
     "execution_count": 18,
     "metadata": {},
     "output_type": "execute_result"
    }
   ],
   "source": [
    "df.NumDash.fillna(\"NONE\").unique()"
   ]
  },
  {
   "cell_type": "code",
   "execution_count": 19,
   "id": "0ba4e3da",
   "metadata": {},
   "outputs": [
    {
     "data": {
      "image/png": "[encoded data removed]",
      "text/plain": [
       "<Figure size 360x576 with 1 Axes>"
      ]
     },
     "metadata": {
      "needs_background": "light"
     },
     "output_type": "display_data"
    }
   ],
   "source": [
    "plt.figure(figsize=(5, 8))\n",
    "sns.stripplot(data=df, x=\"CLASS_LABEL\", y=\"NumDash\");"
   ]
  },
  {
   "cell_type": "code",
   "execution_count": 20,
   "id": "e8c58d79",
   "metadata": {},
   "outputs": [
    {
     "data": {
      "text/plain": [
       "array([  0,  41,   2,   1,   3,  10,   7,  22,   4,  24,  17,  16,   8,\n",
       "        18,  75,   5,  26,  33,  20,  12,  47,  43,  32,  30,  48,  23,\n",
       "        21,  25,  13,  19,  14,   6,   9,  28,  31,  39,  74,  29,  49,\n",
       "        11,  67,  37,  58,  15,  51,  52,  27,  77,  42,  54,  62,  46,\n",
       "        76,  50,  45,  40,  35,  34,  56,  38,  66,  79,  71,  36,  82,\n",
       "        78,  65,  44,  73,  59,  68,  53,  72,  69,  64,  60,  55,  63,\n",
       "        87, 111,  88,  57])"
      ]
     },
     "execution_count": 20,
     "metadata": {},
     "output_type": "execute_result"
    }
   ],
   "source": [
    "df.NumNumericChars.fillna(\"NONE\").unique()"
   ]
  },
  {
   "cell_type": "code",
   "execution_count": 21,
   "id": "8581ebcb",
   "metadata": {},
   "outputs": [
    {
     "data": {
      "image/png": "[encoded data removed]",
      "text/plain": [
       "<Figure size 720x432 with 1 Axes>"
      ]
     },
     "metadata": {
      "needs_background": "light"
     },
     "output_type": "display_data"
    }
   ],
   "source": [
    "plt.figure(figsize=(10, 6))\n",
    "sns.histplot(data=df, x=\"NumNumericChars\", hue=\"CLASS_LABEL\", kde=True);"
   ]
  },
  {
   "cell_type": "code",
   "execution_count": 22,
   "id": "6f54452e",
   "metadata": {},
   "outputs": [
    {
     "name": "stdout",
     "output_type": "stream",
     "text": [
      "0.6907\n"
     ]
    }
   ],
   "source": [
    "df[\"rule_1\"] = (df.FrequentDomainNameMismatch==1)*1.\n",
    "rule_1_accuracy = (df[\"rule_1\"] == df[\"CLASS_LABEL\"]).mean()\n",
    "print(rule_1_accuracy)"
   ]
  },
  {
   "cell_type": "code",
   "execution_count": 23,
   "id": "05906a4b",
   "metadata": {},
   "outputs": [
    {
     "name": "stdout",
     "output_type": "stream",
     "text": [
      "0.6198\n"
     ]
    }
   ],
   "source": [
    "df[\"rule_2\"] = (df. SubmitInfoToEmail==0)*1. \n",
    "rule_2_accuracy = (df[\"rule_2\"] == df[\"CLASS_LABEL\"]).mean() \n",
    "print(rule_2_accuracy) "
   ]
  },
  {
   "cell_type": "code",
   "execution_count": 24,
   "id": "e61ea9c1",
   "metadata": {},
   "outputs": [
    {
     "name": "stdout",
     "output_type": "stream",
     "text": [
      "0.6182 0.6923\n"
     ]
    }
   ],
   "source": [
    "df[\"rule_1_or_rule_2\"] = ((df.rule_1==1) | (df.rule_2==1))*1.\n",
    "rule_1_or_rule_2_accuracy = (df[\"rule_1_or_rule_2\"] == df[\"CLASS_LABEL\"]).mean() \n",
    "df[\"rule_1_and_rule_2\"] = ((df.rule_1==1) & (df.rule_2==1))*1.\n",
    "rule_1_and_rule_2_accuracy = (df[\"rule_1_and_rule_2\"] == df[\"CLASS_LABEL\"]).mean() \n",
    "print(rule_1_or_rule_2_accuracy, rule_1_and_rule_2_accuracy) "
   ]
  },
  {
   "cell_type": "code",
   "execution_count": 25,
   "id": "04b644a7",
   "metadata": {},
   "outputs": [
    {
     "name": "stdout",
     "output_type": "stream",
     "text": [
      "0.7717\n"
     ]
    }
   ],
   "source": [
    "df[\"rule_a\"] = (df.PctExtNullSelfRedirectHyperlinksRT < 0)*1.\n",
    "rule_a_accuracy = (df[\"rule_a\"] == df[\"CLASS_LABEL\"]).mean()\n",
    "print(rule_a_accuracy)"
   ]
  },
  {
   "cell_type": "code",
   "execution_count": 26,
   "id": "14ae455e",
   "metadata": {},
   "outputs": [
    {
     "data": {
      "image/png": "[encoded data removed]",
      "text/plain": [
       "<Figure size 432x288 with 1 Axes>"
      ]
     },
     "metadata": {
      "needs_background": "light"
     },
     "output_type": "display_data"
    }
   ],
   "source": [
    "possible_values = sorted(df.NumDash.fillna(\"NONE\").unique())\n",
    "accuracies_numdash=[]\n",
    "for v in possible_values:\n",
    "    tmp_rule_b = (df.NumDash < v)*1.\n",
    "    rule_b_accuracy = (tmp_rule_b == df[\"CLASS_LABEL\"]).mean()\n",
    "    accuracies_numdash.append((str(v), rule_b_accuracy))\n",
    "sns.pointplot(x=[c[0] for c in accuracies_numdash], y=[c[1] for c in accuracies_numdash]);"
   ]
  },
  {
   "cell_type": "code",
   "execution_count": 27,
   "id": "d7049f15",
   "metadata": {},
   "outputs": [
    {
     "name": "stdout",
     "output_type": "stream",
     "text": [
      "Optimal threshold value is: 2\n"
     ]
    }
   ],
   "source": [
    "possible_values = sorted(df.NumDash.fillna(\"NONE\").unique())\n",
    "last_accuracy = 0\n",
    "for i in range(len(possible_values)):\n",
    "    tmp_rule_b = (df.NumDash < possible_values[i])*1.\n",
    "    curr_accuracy = (tmp_rule_b == df[\"CLASS_LABEL\"]).mean()\n",
    "    if curr_accuracy < last_accuracy:\n",
    "        print(f\"Optimal threshold value is: {possible_values[i-1]}\")\n",
    "        break\n",
    "    else:\n",
    "        last_accuracy = curr_accuracy"
   ]
  },
  {
   "cell_type": "code",
   "execution_count": 28,
   "id": "ec2df99f",
   "metadata": {},
   "outputs": [
    {
     "name": "stdout",
     "output_type": "stream",
     "text": [
      "0.6776\n"
     ]
    }
   ],
   "source": [
    "df[\"rule_b\"] = (df.NumDash < 2)*1.\n",
    "rule_b_accuracy = (df[\"rule_b\"] == df[\"CLASS_LABEL\"]).mean()\n",
    "print(rule_b_accuracy)"
   ]
  },
  {
   "cell_type": "code",
   "execution_count": 29,
   "id": "271535f2",
   "metadata": {
    "scrolled": true
   },
   "outputs": [
    {
     "name": "stdout",
     "output_type": "stream",
     "text": [
      "0.6974 0.7519\n"
     ]
    }
   ],
   "source": [
    "df[\"rule_a_or_rule_b\"] = ((df.rule_a==1) | (df.rule_b==1))*1.\n",
    "rule_a_or_rule_b_accuracy = (df[\"rule_a_or_rule_b\"] == df[\"CLASS_LABEL\"]).mean() \n",
    "df[\"rule_a_and_rule_b\"] = ((df.rule_a==1) & (df.rule_b==1))*1.\n",
    "rule_a_and_rule_b_accuracy = (df[\"rule_a_and_rule_b\"] == df[\"CLASS_LABEL\"]).mean() \n",
    "print(rule_a_or_rule_b_accuracy, rule_a_and_rule_b_accuracy) "
   ]
  },
  {
   "cell_type": "code",
   "execution_count": 30,
   "id": "edc5d9f6",
   "metadata": {},
   "outputs": [
    {
     "name": "stdout",
     "output_type": "stream",
     "text": [
      "0.8086 0.6538\n"
     ]
    }
   ],
   "source": [
    "df[\"rule_a_or_rule_1\"] = ((df.rule_a==1) | (df.rule_1==1))*1.\n",
    "rule_a_or_rule_1_accuracy = (df[\"rule_a_or_rule_1\"] == df[\"CLASS_LABEL\"]).mean() \n",
    "df[\"rule_a_and_rule_1\"] = ((df.rule_a==1) & (df.rule_1==1))*1.\n",
    "rule_a_and_rule_1_accuracy = (df[\"rule_a_and_rule_1\"] == df[\"CLASS_LABEL\"]).mean() \n",
    "print(rule_a_or_rule_1_accuracy, rule_a_and_rule_1_accuracy) "
   ]
  },
  {
   "cell_type": "code",
   "execution_count": 31,
   "id": "b98d523f",
   "metadata": {},
   "outputs": [
    {
     "name": "stdout",
     "output_type": "stream",
     "text": [
      "0.8092 0.6548\n"
     ]
    }
   ],
   "source": [
    "df[\"rule_a_or_rule_1_and_rule_2\"] = ((df.rule_a==1) | (df.rule_1_and_rule_2==1))*1.\n",
    "rule_a_or_rule_1_and_rule_2_accuracy = (df[\"rule_a_or_rule_1_and_rule_2\"] == df[\"CLASS_LABEL\"]).mean() \n",
    "df[\"rule_a_and_rule_1_and_rule_2\"] = ((df.rule_a==1) & (df.rule_1_and_rule_2==1))*1.\n",
    "rule_a_and_rule_1_and_rule_2_accuracy = (df[\"rule_a_and_rule_1_and_rule_2\"] == df[\"CLASS_LABEL\"]).mean() \n",
    "print(rule_a_or_rule_1_and_rule_2_accuracy, rule_a_and_rule_1_and_rule_2_accuracy) "
   ]
  },
  {
   "cell_type": "code",
   "execution_count": null,
   "id": "35e32fec",
   "metadata": {},
   "outputs": [],
   "source": []
  }
 ],
 "metadata": {
  "kernelspec": {
   "display_name": "Python 3 (ipykernel)",
   "language": "python",
   "name": "python3"
  },
  "language_info": {
   "codemirror_mode": {
    "name": "ipython",
    "version": 3
   },
   "file_extension": ".py",
   "mimetype": "text/x-python",
   "name": "python",
   "nbconvert_exporter": "python",
   "pygments_lexer": "ipython3",
   "version": "3.9.12"
  }
 },
 "nbformat": 4,
 "nbformat_minor": 5
}
