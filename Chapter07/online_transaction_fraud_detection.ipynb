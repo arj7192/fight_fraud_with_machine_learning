{
 "cells": [
  {
   "cell_type": "code",
   "execution_count": 1,
   "id": "8555adbb",
   "metadata": {},
   "outputs": [
    {
     "data": {
      "text/html": [
       "<style>.container { width:100% !important; }</style>"
      ],
      "text/plain": [
       "<IPython.core.display.HTML object>"
      ]
     },
     "metadata": {},
     "output_type": "display_data"
    }
   ],
   "source": [
    "# setting up the notebook width to 100% of the screen\n",
    "from IPython.display import display, HTML\n",
    "display(HTML(\"<style>.container { width:100% !important; }</style>\"))"
   ]
  },
  {
   "cell_type": "markdown",
   "id": "44a30fb3",
   "metadata": {},
   "source": [
    "## 1. import libraries"
   ]
  },
  {
   "cell_type": "code",
   "execution_count": 2,
   "id": "a995ef57",
   "metadata": {},
   "outputs": [],
   "source": [
    "import time\n",
    "import pandas as pd\n",
    "import seaborn as sns\n",
    "import matplotlib.pyplot as plt\n",
    "import numpy as np\n",
    "import joblib\n",
    "import json\n",
    "\n",
    "from imblearn.under_sampling import RandomUnderSampler\n",
    "from sklearn.tree import DecisionTreeClassifier\n",
    "from sklearn.ensemble import RandomForestClassifier\n",
    "from sklearn import tree\n",
    "from sklearn.metrics import average_precision_score, precision_recall_curve\n",
    "from sklearn.model_selection import RandomizedSearchCV, TimeSeriesSplit\n",
    "from scipy.stats import uniform, randint"
   ]
  },
  {
   "cell_type": "markdown",
   "id": "b5a1282c",
   "metadata": {},
   "source": [
    "## 2. load data"
   ]
  },
  {
   "cell_type": "code",
   "execution_count": 3,
   "id": "227f43f0",
   "metadata": {},
   "outputs": [],
   "source": [
    "df = pd.read_csv(\"./PS_20174392719_1491204439457_log.csv\")"
   ]
  },
  {
   "cell_type": "markdown",
   "id": "7297457f",
   "metadata": {},
   "source": [
    "## 3. data cleaning"
   ]
  },
  {
   "cell_type": "code",
   "execution_count": 4,
   "id": "815ac954",
   "metadata": {},
   "outputs": [
    {
     "data": {
      "text/plain": [
       "(6362620, 11)"
      ]
     },
     "execution_count": 4,
     "metadata": {},
     "output_type": "execute_result"
    }
   ],
   "source": [
    "df.shape"
   ]
  },
  {
   "cell_type": "code",
   "execution_count": 5,
   "id": "f30142d4",
   "metadata": {},
   "outputs": [
    {
     "data": {
      "text/html": [
       "<div>\n",
       "<style scoped>\n",
       "    .dataframe tbody tr th:only-of-type {\n",
       "        vertical-align: middle;\n",
       "    }\n",
       "\n",
       "    .dataframe tbody tr th {\n",
       "        vertical-align: top;\n",
       "    }\n",
       "\n",
       "    .dataframe thead th {\n",
       "        text-align: right;\n",
       "    }\n",
       "</style>\n",
       "<table border=\"1\" class=\"dataframe\">\n",
       "  <thead>\n",
       "    <tr style=\"text-align: right;\">\n",
       "      <th></th>\n",
       "      <th>step</th>\n",
       "      <th>type</th>\n",
       "      <th>amount</th>\n",
       "      <th>nameOrig</th>\n",
       "      <th>oldbalanceOrg</th>\n",
       "      <th>newbalanceOrig</th>\n",
       "      <th>nameDest</th>\n",
       "      <th>oldbalanceDest</th>\n",
       "      <th>newbalanceDest</th>\n",
       "      <th>isFraud</th>\n",
       "      <th>isFlaggedFraud</th>\n",
       "    </tr>\n",
       "  </thead>\n",
       "  <tbody>\n",
       "    <tr>\n",
       "      <th>0</th>\n",
       "      <td>1</td>\n",
       "      <td>PAYMENT</td>\n",
       "      <td>9839.64</td>\n",
       "      <td>C1231006815</td>\n",
       "      <td>170136.0</td>\n",
       "      <td>160296.36</td>\n",
       "      <td>M1979787155</td>\n",
       "      <td>0.0</td>\n",
       "      <td>0.0</td>\n",
       "      <td>0</td>\n",
       "      <td>0</td>\n",
       "    </tr>\n",
       "    <tr>\n",
       "      <th>1</th>\n",
       "      <td>1</td>\n",
       "      <td>PAYMENT</td>\n",
       "      <td>1864.28</td>\n",
       "      <td>C1666544295</td>\n",
       "      <td>21249.0</td>\n",
       "      <td>19384.72</td>\n",
       "      <td>M2044282225</td>\n",
       "      <td>0.0</td>\n",
       "      <td>0.0</td>\n",
       "      <td>0</td>\n",
       "      <td>0</td>\n",
       "    </tr>\n",
       "    <tr>\n",
       "      <th>2</th>\n",
       "      <td>1</td>\n",
       "      <td>TRANSFER</td>\n",
       "      <td>181.00</td>\n",
       "      <td>C1305486145</td>\n",
       "      <td>181.0</td>\n",
       "      <td>0.00</td>\n",
       "      <td>C553264065</td>\n",
       "      <td>0.0</td>\n",
       "      <td>0.0</td>\n",
       "      <td>1</td>\n",
       "      <td>0</td>\n",
       "    </tr>\n",
       "    <tr>\n",
       "      <th>3</th>\n",
       "      <td>1</td>\n",
       "      <td>CASH_OUT</td>\n",
       "      <td>181.00</td>\n",
       "      <td>C840083671</td>\n",
       "      <td>181.0</td>\n",
       "      <td>0.00</td>\n",
       "      <td>C38997010</td>\n",
       "      <td>21182.0</td>\n",
       "      <td>0.0</td>\n",
       "      <td>1</td>\n",
       "      <td>0</td>\n",
       "    </tr>\n",
       "    <tr>\n",
       "      <th>4</th>\n",
       "      <td>1</td>\n",
       "      <td>PAYMENT</td>\n",
       "      <td>11668.14</td>\n",
       "      <td>C2048537720</td>\n",
       "      <td>41554.0</td>\n",
       "      <td>29885.86</td>\n",
       "      <td>M1230701703</td>\n",
       "      <td>0.0</td>\n",
       "      <td>0.0</td>\n",
       "      <td>0</td>\n",
       "      <td>0</td>\n",
       "    </tr>\n",
       "  </tbody>\n",
       "</table>\n",
       "</div>"
      ],
      "text/plain": [
       "   step      type    amount     nameOrig  oldbalanceOrg  newbalanceOrig  \\\n",
       "0     1   PAYMENT   9839.64  C1231006815       170136.0       160296.36   \n",
       "1     1   PAYMENT   1864.28  C1666544295        21249.0        19384.72   \n",
       "2     1  TRANSFER    181.00  C1305486145          181.0            0.00   \n",
       "3     1  CASH_OUT    181.00   C840083671          181.0            0.00   \n",
       "4     1   PAYMENT  11668.14  C2048537720        41554.0        29885.86   \n",
       "\n",
       "      nameDest  oldbalanceDest  newbalanceDest  isFraud  isFlaggedFraud  \n",
       "0  M1979787155             0.0             0.0        0               0  \n",
       "1  M2044282225             0.0             0.0        0               0  \n",
       "2   C553264065             0.0             0.0        1               0  \n",
       "3    C38997010         21182.0             0.0        1               0  \n",
       "4  M1230701703             0.0             0.0        0               0  "
      ]
     },
     "execution_count": 5,
     "metadata": {},
     "output_type": "execute_result"
    }
   ],
   "source": [
    "df.head()"
   ]
  },
  {
   "cell_type": "markdown",
   "id": "f3d2edbd",
   "metadata": {},
   "source": [
    "### 3.1 check data types consistency"
   ]
  },
  {
   "cell_type": "code",
   "execution_count": 6,
   "id": "209640c5",
   "metadata": {},
   "outputs": [
    {
     "data": {
      "text/plain": [
       "float64    5\n",
       "int64      3\n",
       "object     3\n",
       "dtype: int64"
      ]
     },
     "execution_count": 6,
     "metadata": {},
     "output_type": "execute_result"
    }
   ],
   "source": [
    "df.dtypes.value_counts()"
   ]
  },
  {
   "cell_type": "code",
   "execution_count": 7,
   "id": "8f9030dd",
   "metadata": {},
   "outputs": [
    {
     "data": {
      "text/plain": [
       "['type', 'nameOrig', 'nameDest']"
      ]
     },
     "execution_count": 7,
     "metadata": {},
     "output_type": "execute_result"
    }
   ],
   "source": [
    "df.select_dtypes(['object']).columns.tolist()"
   ]
  },
  {
   "cell_type": "code",
   "execution_count": 8,
   "id": "7109f703",
   "metadata": {},
   "outputs": [
    {
     "data": {
      "text/plain": [
       "type           nameOrig       nameDest     \n",
       "<class 'str'>  <class 'str'>  <class 'str'>    6362620\n",
       "dtype: int64"
      ]
     },
     "execution_count": 8,
     "metadata": {},
     "output_type": "execute_result"
    }
   ],
   "source": [
    "df[[\"type\", \"nameOrig\", \"nameDest\"]].applymap(type).value_counts()"
   ]
  },
  {
   "cell_type": "code",
   "execution_count": 9,
   "id": "8a6b9812",
   "metadata": {},
   "outputs": [
    {
     "data": {
      "text/plain": [
       "CASH_OUT    2237500\n",
       "PAYMENT     2151495\n",
       "CASH_IN     1399284\n",
       "TRANSFER     532909\n",
       "DEBIT         41432\n",
       "Name: type, dtype: int64"
      ]
     },
     "execution_count": 9,
     "metadata": {},
     "output_type": "execute_result"
    }
   ],
   "source": [
    "df[\"type\"].value_counts()"
   ]
  },
  {
   "cell_type": "code",
   "execution_count": 10,
   "id": "6563683b",
   "metadata": {},
   "outputs": [
    {
     "data": {
      "text/plain": [
       "C    6362620\n",
       "Name: nameOrig, dtype: int64"
      ]
     },
     "execution_count": 10,
     "metadata": {},
     "output_type": "execute_result"
    }
   ],
   "source": [
    "df[\"nameOrig\"].str[0].value_counts()"
   ]
  },
  {
   "cell_type": "code",
   "execution_count": 11,
   "id": "e61067fc",
   "metadata": {},
   "outputs": [
    {
     "data": {
      "text/plain": [
       "C    4211125\n",
       "M    2151495\n",
       "Name: nameDest, dtype: int64"
      ]
     },
     "execution_count": 11,
     "metadata": {},
     "output_type": "execute_result"
    }
   ],
   "source": [
    "df[\"nameDest\"].str[0].value_counts()"
   ]
  },
  {
   "cell_type": "code",
   "execution_count": 12,
   "id": "8f7355a1",
   "metadata": {},
   "outputs": [
    {
     "data": {
      "text/plain": [
       "C1    3290968\n",
       "C2     766936\n",
       "C7     330560\n",
       "C5     330009\n",
       "C6     329312\n",
       "C4     329176\n",
       "C8     328926\n",
       "C9     328795\n",
       "C3     327938\n",
       "Name: nameOrig, dtype: int64"
      ]
     },
     "execution_count": 12,
     "metadata": {},
     "output_type": "execute_result"
    }
   ],
   "source": [
    "df[\"nameOrig\"].str[0:2].value_counts()"
   ]
  },
  {
   "cell_type": "markdown",
   "id": "4ef43ab8",
   "metadata": {},
   "source": [
    "benfords law ^^ vv"
   ]
  },
  {
   "cell_type": "code",
   "execution_count": 13,
   "id": "016bf025",
   "metadata": {},
   "outputs": [
    {
     "data": {
      "text/plain": [
       "C1    2177198\n",
       "M1    1113250\n",
       "C2     509697\n",
       "M2     258735\n",
       "C7     221434\n",
       "C8     218371\n",
       "C9     218312\n",
       "C4     216903\n",
       "C3     216675\n",
       "C5     216484\n",
       "C6     216051\n",
       "M7     111760\n",
       "M9     111700\n",
       "M8     111350\n",
       "M5     111343\n",
       "M3     111298\n",
       "M4     111116\n",
       "M6     110943\n",
       "Name: nameDest, dtype: int64"
      ]
     },
     "execution_count": 13,
     "metadata": {},
     "output_type": "execute_result"
    }
   ],
   "source": [
    "df[\"nameDest\"].str[0:2].value_counts()"
   ]
  },
  {
   "cell_type": "markdown",
   "id": "8b6434ca",
   "metadata": {},
   "source": [
    "### 3.2 check null values and column types¶ "
   ]
  },
  {
   "cell_type": "code",
   "execution_count": 14,
   "id": "417ea703",
   "metadata": {},
   "outputs": [
    {
     "name": "stdout",
     "output_type": "stream",
     "text": [
      "<class 'pandas.core.frame.DataFrame'>\n",
      "RangeIndex: 6362620 entries, 0 to 6362619\n",
      "Data columns (total 11 columns):\n",
      " #   Column          Non-Null Count    Dtype  \n",
      "---  ------          --------------    -----  \n",
      " 0   step            6362620 non-null  int64  \n",
      " 1   type            6362620 non-null  object \n",
      " 2   amount          6362620 non-null  float64\n",
      " 3   nameOrig        6362620 non-null  object \n",
      " 4   oldbalanceOrg   6362620 non-null  float64\n",
      " 5   newbalanceOrig  6362620 non-null  float64\n",
      " 6   nameDest        6362620 non-null  object \n",
      " 7   oldbalanceDest  6362620 non-null  float64\n",
      " 8   newbalanceDest  6362620 non-null  float64\n",
      " 9   isFraud         6362620 non-null  int64  \n",
      " 10  isFlaggedFraud  6362620 non-null  int64  \n",
      "dtypes: float64(5), int64(3), object(3)\n",
      "memory usage: 534.0+ MB\n"
     ]
    }
   ],
   "source": [
    "df.info(show_counts=1)"
   ]
  },
  {
   "cell_type": "markdown",
   "id": "ba367071",
   "metadata": {},
   "source": [
    "#### 3.2.1 confirm that there are no null values"
   ]
  },
  {
   "cell_type": "code",
   "execution_count": 15,
   "id": "270736e8",
   "metadata": {},
   "outputs": [
    {
     "data": {
      "text/plain": [
       "step              False\n",
       "type              False\n",
       "amount            False\n",
       "nameOrig          False\n",
       "oldbalanceOrg     False\n",
       "newbalanceOrig    False\n",
       "nameDest          False\n",
       "oldbalanceDest    False\n",
       "newbalanceDest    False\n",
       "isFraud           False\n",
       "isFlaggedFraud    False\n",
       "dtype: bool"
      ]
     },
     "execution_count": 15,
     "metadata": {},
     "output_type": "execute_result"
    }
   ],
   "source": [
    "df.isnull().any(axis=0)"
   ]
  },
  {
   "cell_type": "markdown",
   "id": "649df76a",
   "metadata": {},
   "source": [
    "### 3.3 check for duplicates"
   ]
  },
  {
   "cell_type": "code",
   "execution_count": 16,
   "id": "577a294d",
   "metadata": {},
   "outputs": [
    {
     "name": "stdout",
     "output_type": "stream",
     "text": [
      "0 entries are duplicates\n"
     ]
    }
   ],
   "source": [
    "print(f\"{len(df[df.duplicated()])} entries are duplicates\")"
   ]
  },
  {
   "cell_type": "markdown",
   "id": "bd157f9e",
   "metadata": {},
   "source": [
    "## 4. data analysis and feature extraction"
   ]
  },
  {
   "cell_type": "markdown",
   "id": "7a9d4e59",
   "metadata": {},
   "source": [
    "### 4.1 univariate and bivariate analysis of original data"
   ]
  },
  {
   "cell_type": "markdown",
   "id": "a93c0917",
   "metadata": {},
   "source": [
    "#### 4.1.1 univariate analysis"
   ]
  },
  {
   "cell_type": "code",
   "execution_count": 17,
   "id": "0a400f1d",
   "metadata": {},
   "outputs": [
    {
     "data": {
      "text/plain": [
       "0    6354407\n",
       "1       8213\n",
       "Name: isFraud, dtype: int64"
      ]
     },
     "execution_count": 17,
     "metadata": {},
     "output_type": "execute_result"
    }
   ],
   "source": [
    "df.isFraud.value_counts()"
   ]
  },
  {
   "cell_type": "code",
   "execution_count": 18,
   "id": "e70e3d56",
   "metadata": {},
   "outputs": [
    {
     "data": {
      "image/png": "[encoded data removed]",
      "text/plain": [
       "<Figure size 432x288 with 1 Axes>"
      ]
     },
     "metadata": {
      "needs_background": "light"
     },
     "output_type": "display_data"
    }
   ],
   "source": [
    "ax=sns.countplot(data=df, x='isFraud');\n",
    "ax.bar_label(ax.containers[0])\n",
    "ax.set_yscale('log')"
   ]
  },
  {
   "cell_type": "code",
   "execution_count": 19,
   "id": "33630267",
   "metadata": {},
   "outputs": [
    {
     "data": {
      "image/png": "[encoded data removed]",
      "text/plain": [
       "<Figure size 1440x720 with 6 Axes>"
      ]
     },
     "metadata": {
      "needs_background": "light"
     },
     "output_type": "display_data"
    }
   ],
   "source": [
    "fig, ax = plt.subplots(2,3,figsize=(20, 10))\n",
    "i = 0\n",
    "for feature in df.select_dtypes([\"int\", \"float\"]).columns[:-2]:\n",
    "    i += 1\n",
    "    plt.subplot(2,3,i)\n",
    "    sns.histplot(df[df['isFraud']==0][feature], bins=100, label=\"Genuine\")\n",
    "    sns.histplot(df[df['isFraud']==1][feature], bins=100, label=\"Fraud\")\n",
    "    plt.title(feature)\n",
    "    plt.yscale('log')\n",
    "    plt.legend()\n",
    "fig.tight_layout() \n",
    "plt.show()"
   ]
  },
  {
   "cell_type": "code",
   "execution_count": 20,
   "id": "3517c133",
   "metadata": {},
   "outputs": [
    {
     "data": {
      "image/png": "[encoded data removed]",
      "text/plain": [
       "<Figure size 864x504 with 1 Axes>"
      ]
     },
     "metadata": {
      "needs_background": "light"
     },
     "output_type": "display_data"
    }
   ],
   "source": [
    "fig=plt.figure(figsize=(12, 7))\n",
    "ax=sns.countplot(data=df, x='type', hue='isFraud');\n",
    "for container in ax.containers:\n",
    "    ax.bar_label(container)\n",
    "ax.set_yscale('log')"
   ]
  },
  {
   "cell_type": "markdown",
   "id": "3fe99b31",
   "metadata": {},
   "source": [
    "### 4.3 feature extraction"
   ]
  },
  {
   "cell_type": "markdown",
   "id": "42065f4f",
   "metadata": {},
   "source": [
    "#### 4.3.1 encode string features into numbers"
   ]
  },
  {
   "cell_type": "code",
   "execution_count": 21,
   "id": "aae195d4",
   "metadata": {
    "scrolled": true
   },
   "outputs": [
    {
     "data": {
      "text/html": [
       "<div>\n",
       "<style scoped>\n",
       "    .dataframe tbody tr th:only-of-type {\n",
       "        vertical-align: middle;\n",
       "    }\n",
       "\n",
       "    .dataframe tbody tr th {\n",
       "        vertical-align: top;\n",
       "    }\n",
       "\n",
       "    .dataframe thead th {\n",
       "        text-align: right;\n",
       "    }\n",
       "</style>\n",
       "<table border=\"1\" class=\"dataframe\">\n",
       "  <thead>\n",
       "    <tr style=\"text-align: right;\">\n",
       "      <th></th>\n",
       "      <th>type</th>\n",
       "      <th>nameOrig</th>\n",
       "      <th>nameDest</th>\n",
       "    </tr>\n",
       "  </thead>\n",
       "  <tbody>\n",
       "    <tr>\n",
       "      <th>0</th>\n",
       "      <td>PAYMENT</td>\n",
       "      <td>C1231006815</td>\n",
       "      <td>M1979787155</td>\n",
       "    </tr>\n",
       "    <tr>\n",
       "      <th>1</th>\n",
       "      <td>PAYMENT</td>\n",
       "      <td>C1666544295</td>\n",
       "      <td>M2044282225</td>\n",
       "    </tr>\n",
       "    <tr>\n",
       "      <th>2</th>\n",
       "      <td>TRANSFER</td>\n",
       "      <td>C1305486145</td>\n",
       "      <td>C553264065</td>\n",
       "    </tr>\n",
       "    <tr>\n",
       "      <th>3</th>\n",
       "      <td>CASH_OUT</td>\n",
       "      <td>C840083671</td>\n",
       "      <td>C38997010</td>\n",
       "    </tr>\n",
       "    <tr>\n",
       "      <th>4</th>\n",
       "      <td>PAYMENT</td>\n",
       "      <td>C2048537720</td>\n",
       "      <td>M1230701703</td>\n",
       "    </tr>\n",
       "  </tbody>\n",
       "</table>\n",
       "</div>"
      ],
      "text/plain": [
       "       type     nameOrig     nameDest\n",
       "0   PAYMENT  C1231006815  M1979787155\n",
       "1   PAYMENT  C1666544295  M2044282225\n",
       "2  TRANSFER  C1305486145   C553264065\n",
       "3  CASH_OUT   C840083671    C38997010\n",
       "4   PAYMENT  C2048537720  M1230701703"
      ]
     },
     "execution_count": 21,
     "metadata": {},
     "output_type": "execute_result"
    }
   ],
   "source": [
    "df.select_dtypes(\"object\").head()"
   ]
  },
  {
   "cell_type": "code",
   "execution_count": 22,
   "id": "9d2c8ec4",
   "metadata": {
    "scrolled": true
   },
   "outputs": [
    {
     "data": {
      "text/html": [
       "<div>\n",
       "<style scoped>\n",
       "    .dataframe tbody tr th:only-of-type {\n",
       "        vertical-align: middle;\n",
       "    }\n",
       "\n",
       "    .dataframe tbody tr th {\n",
       "        vertical-align: top;\n",
       "    }\n",
       "\n",
       "    .dataframe thead th {\n",
       "        text-align: right;\n",
       "    }\n",
       "</style>\n",
       "<table border=\"1\" class=\"dataframe\">\n",
       "  <thead>\n",
       "    <tr style=\"text-align: right;\">\n",
       "      <th></th>\n",
       "      <th>CASH_IN</th>\n",
       "      <th>CASH_OUT</th>\n",
       "      <th>DEBIT</th>\n",
       "      <th>PAYMENT</th>\n",
       "      <th>TRANSFER</th>\n",
       "    </tr>\n",
       "  </thead>\n",
       "  <tbody>\n",
       "    <tr>\n",
       "      <th>0</th>\n",
       "      <td>0</td>\n",
       "      <td>0</td>\n",
       "      <td>0</td>\n",
       "      <td>1</td>\n",
       "      <td>0</td>\n",
       "    </tr>\n",
       "    <tr>\n",
       "      <th>1</th>\n",
       "      <td>0</td>\n",
       "      <td>0</td>\n",
       "      <td>0</td>\n",
       "      <td>1</td>\n",
       "      <td>0</td>\n",
       "    </tr>\n",
       "    <tr>\n",
       "      <th>2</th>\n",
       "      <td>0</td>\n",
       "      <td>0</td>\n",
       "      <td>0</td>\n",
       "      <td>0</td>\n",
       "      <td>1</td>\n",
       "    </tr>\n",
       "    <tr>\n",
       "      <th>3</th>\n",
       "      <td>0</td>\n",
       "      <td>1</td>\n",
       "      <td>0</td>\n",
       "      <td>0</td>\n",
       "      <td>0</td>\n",
       "    </tr>\n",
       "    <tr>\n",
       "      <th>4</th>\n",
       "      <td>0</td>\n",
       "      <td>0</td>\n",
       "      <td>0</td>\n",
       "      <td>1</td>\n",
       "      <td>0</td>\n",
       "    </tr>\n",
       "  </tbody>\n",
       "</table>\n",
       "</div>"
      ],
      "text/plain": [
       "   CASH_IN  CASH_OUT  DEBIT  PAYMENT  TRANSFER\n",
       "0        0         0      0        1         0\n",
       "1        0         0      0        1         0\n",
       "2        0         0      0        0         1\n",
       "3        0         1      0        0         0\n",
       "4        0         0      0        1         0"
      ]
     },
     "execution_count": 22,
     "metadata": {},
     "output_type": "execute_result"
    }
   ],
   "source": [
    "pd.get_dummies(df[\"type\"]).astype(int).head()"
   ]
  },
  {
   "cell_type": "code",
   "execution_count": 23,
   "id": "10c12d44",
   "metadata": {},
   "outputs": [],
   "source": [
    "df = pd.concat([df, pd.get_dummies(df[\"type\"]).astype(int)], axis=1)"
   ]
  },
  {
   "cell_type": "code",
   "execution_count": 24,
   "id": "3ae20026",
   "metadata": {},
   "outputs": [],
   "source": [
    "columns_to_select = sorted([\"amount\", \"oldbalanceOrg\", \"newbalanceOrig\", \"oldbalanceDest\", \"newbalanceDest\", \"CASH_OUT\", \"TRANSFER\"])"
   ]
  },
  {
   "cell_type": "markdown",
   "id": "d75d858b",
   "metadata": {},
   "source": [
    "## 5. model training and evaluation\n"
   ]
  },
  {
   "cell_type": "markdown",
   "id": "0226fb10",
   "metadata": {},
   "source": [
    "### 5.1 train test split"
   ]
  },
  {
   "cell_type": "markdown",
   "id": "4da6acad",
   "metadata": {},
   "source": [
    "#### 5.1.1 check if the dataset is sorted in increasing order of time"
   ]
  },
  {
   "cell_type": "code",
   "execution_count": 25,
   "id": "75c0d78d",
   "metadata": {},
   "outputs": [
    {
     "data": {
      "text/plain": [
       "0.0"
      ]
     },
     "execution_count": 25,
     "metadata": {},
     "output_type": "execute_result"
    }
   ],
   "source": [
    "min(df.step.diff().dropna())"
   ]
  },
  {
   "cell_type": "markdown",
   "id": "27a43a4a",
   "metadata": {},
   "source": [
    "#### 5.1.2 split dataset in time-series manner"
   ]
  },
  {
   "cell_type": "code",
   "execution_count": 26,
   "id": "ef5ab877",
   "metadata": {},
   "outputs": [],
   "source": [
    "split_index = int(len(df) * 0.8)\n",
    "X, y = df[columns_to_select], df['isFraud']\n",
    "X_train, X_test, y_train, y_test = X.iloc[:split_index], X.iloc[split_index:], y.iloc[:split_index], y.iloc[split_index:]"
   ]
  },
  {
   "cell_type": "markdown",
   "id": "0691de1a",
   "metadata": {},
   "source": [
    "#### 5.1.3 ensure both train and test sets have similar fraud percentages"
   ]
  },
  {
   "cell_type": "code",
   "execution_count": 27,
   "id": "679e3bd1",
   "metadata": {},
   "outputs": [
    {
     "data": {
      "text/plain": [
       "(0.0007777849376514706, 0.0033429624902948786)"
      ]
     },
     "execution_count": 27,
     "metadata": {},
     "output_type": "execute_result"
    }
   ],
   "source": [
    "y_train.mean(), y_test.mean()"
   ]
  },
  {
   "cell_type": "markdown",
   "id": "3a464d17",
   "metadata": {},
   "source": [
    "### 5.2 training decision tree model using random hyperparameter search with time-series splits-based k-fold cross validation"
   ]
  },
  {
   "cell_type": "code",
   "execution_count": 28,
   "id": "4d77187b",
   "metadata": {
    "scrolled": true
   },
   "outputs": [
    {
     "name": "stdout",
     "output_type": "stream",
     "text": [
      "Best hyperparameters: {'class_weight': {0: 1, 1: 2}, 'max_depth': 4}\n",
      "42.87828183174133\n"
     ]
    }
   ],
   "source": [
    "start = time.time()\n",
    "\n",
    "# Set the parameters to search over\n",
    "param_dist = {'max_depth': randint(1, 5), \n",
    "              'class_weight': [None, 'balanced', {0: 1, 1: 2}, {0: 1, 1: 5}, {0: 1, 1: 10}]}\n",
    "\n",
    "# Create a Decision Tree model\n",
    "dt = DecisionTreeClassifier(random_state=42)\n",
    "\n",
    "# Define the time series cross-validation strategy \n",
    "tscv = TimeSeriesSplit(n_splits=3) \n",
    "\n",
    "# Run randomized search\n",
    "rand_search = RandomizedSearchCV(dt, param_distributions=param_dist, n_iter=3, cv=tscv, random_state=42, scoring=\"average_precision\")\n",
    "\n",
    "# Fit the randomized search to the training data\n",
    "rand_search.fit(X_train, y_train)\n",
    "\n",
    "# Print the best hyperparameters\n",
    "print('Best hyperparameters:', rand_search.best_params_)\n",
    "\n",
    "# return the trained model\n",
    "model = rand_search.best_estimator_\n",
    "\n",
    "print(time.time()-start)"
   ]
  },
  {
   "cell_type": "markdown",
   "id": "f743201e",
   "metadata": {},
   "source": [
    "### 5.3 evaluating model performance using precision recall curve"
   ]
  },
  {
   "cell_type": "markdown",
   "id": "0602b0c2",
   "metadata": {},
   "source": [
    "#### 5.3.1 plot precision-recall curve"
   ]
  },
  {
   "cell_type": "code",
   "execution_count": null,
   "id": "a232c24a",
   "metadata": {},
   "outputs": [],
   "source": [
    "y_pred_prob = model.predict_proba(X_test)\n",
    "# Compute precision and recall\n",
    "precision, recall, thresholds = precision_recall_curve(y_test, y_pred_prob[:,1])\n",
    "auprc = average_precision_score(y_test, y_pred_prob[:,1])\n",
    "# Plot precision-recall curve\n",
    "plt.plot(recall, precision, label='Precision-Recall Curve')\n",
    "plt.xlabel('Recall')\n",
    "plt.ylabel('Precision')\n",
    "plt.title(f'Precision-Recall Curve (AUPRC)={auprc}')\n",
    "plt.legend()\n",
    "plt.grid(True)"
   ]
  },
  {
   "cell_type": "markdown",
   "id": "9d478e14",
   "metadata": {},
   "source": [
    "## 6 Model interpretability"
   ]
  },
  {
   "cell_type": "code",
   "execution_count": null,
   "id": "7b0c4e5a",
   "metadata": {},
   "outputs": [],
   "source": [
    "plt.figure(figsize=(10,10))\n",
    "\n",
    "sorted_features = sorted(zip(model.feature_names_in_, model.feature_importances_), key=lambda c: abs(c[1]))\n",
    "sorted_names, sorted_imp = zip(*sorted_features)\n",
    "\n",
    "plt.barh(range(len(sorted_imp)), sorted_imp, align='center')\n",
    "for i, v in enumerate(sorted_imp):\n",
    "    plt.text(v, i, str(round(v, 2)), va='center')\n",
    "plt.yticks(range(len(sorted_imp)), sorted_names)\n",
    "plt.xlabel('Feature Importance')\n",
    "plt.ylabel('Feature Names')\n",
    "plt.title('Feature Importance')\n",
    "\n",
    "plt.show()"
   ]
  },
  {
   "cell_type": "code",
   "execution_count": null,
   "id": "3587f24a",
   "metadata": {
    "scrolled": false
   },
   "outputs": [],
   "source": [
    "plt.figure(figsize=(30, 30))\n",
    "tree.plot_tree(model, feature_names=model.feature_names_in_,  \n",
    "                   class_names=[\"genuine\", \"fraud\"],\n",
    "                   filled=True, rounded=True, fontsize=18);"
   ]
  },
  {
   "cell_type": "markdown",
   "id": "902348c7",
   "metadata": {},
   "source": [
    "## 7. Replace decision tree with random forest"
   ]
  },
  {
   "cell_type": "markdown",
   "id": "dfb75f63",
   "metadata": {},
   "source": [
    "### 7.1 Training random forest model using random hyperparameter search with time-series splits-based k-fold cross validation"
   ]
  },
  {
   "cell_type": "code",
   "execution_count": null,
   "id": "ee5afa59",
   "metadata": {},
   "outputs": [],
   "source": [
    "start = time.time()\n",
    "\n",
    "# Set the parameters to search over\n",
    "param_dist = {'max_depth': randint(1, 5), 'n_estimators': randint(2, 10),\n",
    "              'class_weight': [None, 'balanced', {0: 1, 1: 2}, {0: 1, 1: 5}, {0: 1, 1: 10}]}\n",
    "\n",
    "# Create a Decision Tree model\n",
    "rf = RandomForestClassifier(random_state=42)\n",
    "\n",
    "# Run randomized search\n",
    "rand_search = RandomizedSearchCV(rf, param_distributions=param_dist, n_iter=3, cv=tscv, random_state=42, scoring=\"average_precision\")\n",
    "\n",
    "# Fit the randomized search to the training data\n",
    "rand_search.fit(X_train, y_train)\n",
    "\n",
    "# Print the best hyperparameters\n",
    "print('Best hyperparameters:', rand_search.best_params_)\n",
    "\n",
    "# return the trained model\n",
    "model_rf = rand_search.best_estimator_\n",
    "\n",
    "print(time.time()-start)"
   ]
  },
  {
   "cell_type": "markdown",
   "id": "e903427a",
   "metadata": {},
   "source": [
    "### 7.2 evaluating model performance using precision recall curve"
   ]
  },
  {
   "cell_type": "markdown",
   "id": "b0816c8e",
   "metadata": {},
   "source": [
    "#### 7.2.1 plot precision-recall curve"
   ]
  },
  {
   "cell_type": "code",
   "execution_count": null,
   "id": "45e5905c",
   "metadata": {
    "scrolled": true
   },
   "outputs": [],
   "source": [
    "y_pred_prob_rf = model_rf.predict_proba(X_test)\n",
    "# Compute precision and recall\n",
    "precision_rf, recall_rf, thresholds_rf = precision_recall_curve(y_test, y_pred_prob_rf[:,1])\n",
    "auprc_rf = average_precision_score(y_test, y_pred_prob_rf[:,1])\n",
    "# Plot precision-recall curve\n",
    "plt.plot(recall, precision, label='Precision-Recall Curve (Decision Tree)', color='r')\n",
    "plt.plot(recall_rf, precision_rf, label='Precision-Recall Curve (Random Forest)', color='b')\n",
    "plt.xlabel('Recall')\n",
    "plt.ylabel('Precision')\n",
    "plt.title(f'Precision-Recall Curve (AUPRC_DT={round(auprc, 2)}, AUPRC_RF={round(auprc_rf, 2)})')\n",
    "plt.legend()\n",
    "plt.grid(True)"
   ]
  },
  {
   "cell_type": "markdown",
   "id": "7548c1db",
   "metadata": {},
   "source": [
    "### 7.3 Model interpretability"
   ]
  },
  {
   "cell_type": "code",
   "execution_count": null,
   "id": "09e0f588",
   "metadata": {},
   "outputs": [],
   "source": [
    "plt.figure(figsize=(10,10))\n",
    "\n",
    "sorted_features = sorted(zip(model_rf.feature_names_in_, model_rf.feature_importances_), key=lambda c: abs(c[1]))\n",
    "sorted_names, sorted_imp = zip(*sorted_features)\n",
    "\n",
    "plt.barh(range(len(sorted_imp)), sorted_imp, align='center')\n",
    "for i, v in enumerate(sorted_imp):\n",
    "    plt.text(v, i, str(round(v, 2)), va='center')\n",
    "plt.yticks(range(len(sorted_imp)), sorted_names)\n",
    "plt.xlabel('Feature Importance')\n",
    "plt.ylabel('Feature Names')\n",
    "plt.title('Feature Importance')\n",
    "\n",
    "plt.show()"
   ]
  },
  {
   "cell_type": "code",
   "execution_count": null,
   "id": "0eec2ea2",
   "metadata": {},
   "outputs": [],
   "source": [
    "len(model_rf.estimators_)"
   ]
  },
  {
   "cell_type": "code",
   "execution_count": null,
   "id": "b44e5fd1",
   "metadata": {},
   "outputs": [],
   "source": [
    "model_rf.estimators_"
   ]
  },
  {
   "cell_type": "code",
   "execution_count": null,
   "id": "9f28ac05",
   "metadata": {},
   "outputs": [],
   "source": [
    "plt.figure(figsize=(30, 30))\n",
    "tree.plot_tree(model_rf.estimators_[0], feature_names=model_rf.feature_names_in_,  \n",
    "                   class_names=[\"genuine\", \"fraud\"],\n",
    "                   filled=True, rounded=True, fontsize=18);"
   ]
  },
  {
   "cell_type": "markdown",
   "id": "4bee95c1",
   "metadata": {},
   "source": [
    "## 8. feature engineering and data analysis"
   ]
  },
  {
   "cell_type": "markdown",
   "id": "d790618c",
   "metadata": {},
   "source": [
    "### 8.1 name substring features, combining namesubstring features "
   ]
  },
  {
   "cell_type": "code",
   "execution_count": null,
   "id": "330f2a2a",
   "metadata": {},
   "outputs": [],
   "source": [
    "df[\"categoryOrig\"] = df[\"nameOrig\"].str[0]\n",
    "df[\"categoryDest\"] = df[\"nameDest\"].str[0]"
   ]
  },
  {
   "cell_type": "markdown",
   "id": "7ed119fd",
   "metadata": {},
   "source": [
    "### 8.2 balance delta features, and orig<>dest balance comparison features"
   ]
  },
  {
   "cell_type": "code",
   "execution_count": null,
   "id": "1c11ec86",
   "metadata": {},
   "outputs": [],
   "source": [
    "df[\"amountOrig\"] = df.oldbalanceOrg - df.newbalanceOrig\n",
    "df[\"amountDest\"] = df.newbalanceDest - df.oldbalanceDest"
   ]
  },
  {
   "cell_type": "code",
   "execution_count": null,
   "id": "f0067497",
   "metadata": {
    "scrolled": true
   },
   "outputs": [],
   "source": [
    "(df.amount-df.amountOrig).mean()"
   ]
  },
  {
   "cell_type": "code",
   "execution_count": null,
   "id": "7fe0bdbf",
   "metadata": {},
   "outputs": [],
   "source": [
    "(df.amount-df.amountDest).mean()"
   ]
  },
  {
   "cell_type": "code",
   "execution_count": null,
   "id": "844fc380",
   "metadata": {},
   "outputs": [],
   "source": [
    "df[\"errorBalanceOrig\"] = df.amount - df.amountOrig\n",
    "df[\"errorBalanceDest\"] = df.amount - df.amountDest"
   ]
  },
  {
   "cell_type": "markdown",
   "id": "bd217c26",
   "metadata": {},
   "source": [
    "### 8.3 bivariate analyses using new features"
   ]
  },
  {
   "cell_type": "code",
   "execution_count": null,
   "id": "746a6b2f",
   "metadata": {},
   "outputs": [],
   "source": [
    "fig=plt.figure(figsize=(5, 6))\n",
    "ax=sns.countplot(data=df, x='categoryOrig', hue='isFraud');\n",
    "for container in ax.containers:\n",
    "    ax.bar_label(container)\n",
    "ax.set_yscale('log')"
   ]
  },
  {
   "cell_type": "code",
   "execution_count": null,
   "id": "def4f17d",
   "metadata": {},
   "outputs": [],
   "source": [
    "fig=plt.figure(figsize=(8, 6))\n",
    "ax=sns.countplot(data=df, x='categoryDest', hue='isFraud');\n",
    "for container in ax.containers:\n",
    "    ax.bar_label(container)\n",
    "ax.set_yscale('log')"
   ]
  },
  {
   "cell_type": "code",
   "execution_count": null,
   "id": "67125d81",
   "metadata": {
    "scrolled": false
   },
   "outputs": [],
   "source": [
    "fig, ax = plt.subplots(2,2,figsize=(15, 10))\n",
    "i = 0\n",
    "for feature in df[[\"amountOrig\", \"amountDest\", \"errorBalanceOrig\", \"errorBalanceDest\"]]:\n",
    "    i += 1\n",
    "    plt.subplot(2,2,i)\n",
    "    sns.histplot(df[df['isFraud']==0][feature], bins=100, label=\"Genuine\")\n",
    "    sns.histplot(df[df['isFraud']==1][feature], bins=100, label=\"Fraud\")\n",
    "    plt.title(feature)\n",
    "    plt.yscale('log')\n",
    "    plt.legend()\n",
    "fig.tight_layout() \n",
    "plt.show()"
   ]
  },
  {
   "cell_type": "markdown",
   "id": "5fb50043",
   "metadata": {},
   "source": [
    "### 8.4 multivariate analysis"
   ]
  },
  {
   "cell_type": "code",
   "execution_count": null,
   "id": "fd2ecedf",
   "metadata": {},
   "outputs": [],
   "source": [
    "# sns.pairplot(df.select_dtypes([\"int\", \"float\"]))"
   ]
  },
  {
   "cell_type": "code",
   "execution_count": null,
   "id": "51292c87",
   "metadata": {},
   "outputs": [],
   "source": [
    "# sns.pairplot(df.select_dtypes([\"int\", \"float\"]), hue=\"isFraud\")"
   ]
  },
  {
   "cell_type": "code",
   "execution_count": null,
   "id": "1e6160e4",
   "metadata": {},
   "outputs": [],
   "source": [
    "plt.figure(figsize=(20,15))\n",
    "rus = RandomUnderSampler(random_state=42)\n",
    "df_balanced = pd.concat([*rus.fit_resample(df.select_dtypes([\"int\", \"float\"]), df[\"isFraud\"])], axis=1)\n",
    "corr = df_balanced.corr()\n",
    "sns.heatmap(df_balanced.corr(), annot_kws={'size':8}, annot=True, cmap='rainbow_r')\n",
    "plt.title(\"Correlation Matrix\", fontsize=14)"
   ]
  },
  {
   "cell_type": "code",
   "execution_count": null,
   "id": "cce5fd7f",
   "metadata": {},
   "outputs": [],
   "source": [
    "columns_to_select = sorted([\"amount\", \"oldbalanceOrg\", \"newbalanceOrig\", \"oldbalanceDest\", \"newbalanceDest\", \"CASH_OUT\", \"TRANSFER\",\n",
    "                     \"amountOrig\", \"amountDest\", \"errorBalanceOrig\", \"errorBalanceDest\",])"
   ]
  },
  {
   "cell_type": "markdown",
   "id": "e6869b15",
   "metadata": {},
   "source": [
    "## 9. Final random forest model"
   ]
  },
  {
   "cell_type": "markdown",
   "id": "857381bc",
   "metadata": {},
   "source": [
    "### 9.1 train test split"
   ]
  },
  {
   "cell_type": "markdown",
   "id": "1e30ebf2",
   "metadata": {},
   "source": [
    "#### 9.1.1 split dataset in time-series manner"
   ]
  },
  {
   "cell_type": "code",
   "execution_count": null,
   "id": "0f7c20f0",
   "metadata": {},
   "outputs": [],
   "source": [
    "X, y = df[columns_to_select], df['isFraud']\n",
    "X_train, X_test, y_train, y_test = X.iloc[:split_index], X.iloc[split_index:], y.iloc[:split_index], y.iloc[split_index:]"
   ]
  },
  {
   "cell_type": "markdown",
   "id": "80b9e396",
   "metadata": {},
   "source": [
    "### 9.2 training random forest model using random hyperparameter search with time-series splits-based k-fold cross validation"
   ]
  },
  {
   "cell_type": "code",
   "execution_count": null,
   "id": "52ce1914",
   "metadata": {
    "scrolled": true
   },
   "outputs": [],
   "source": [
    "start = time.time()\n",
    "\n",
    "# Create a Decision Tree model\n",
    "rf = RandomForestClassifier(random_state=42)\n",
    "\n",
    "# Run randomized search\n",
    "rand_search = RandomizedSearchCV(rf, param_distributions=param_dist, n_iter=3, cv=tscv, random_state=42, scoring=\"average_precision\")\n",
    "\n",
    "# Fit the randomized search to the training data\n",
    "rand_search.fit(X_train, y_train)\n",
    "\n",
    "# Print the best hyperparameters\n",
    "print('Best hyperparameters:', rand_search.best_params_)\n",
    "\n",
    "# return the trained model\n",
    "model_rf_best = rand_search.best_estimator_\n",
    "\n",
    "print(time.time()-start)"
   ]
  },
  {
   "cell_type": "markdown",
   "id": "c3b59263",
   "metadata": {},
   "source": [
    "### 9.3 evaluating model performance using precision recall curve"
   ]
  },
  {
   "cell_type": "markdown",
   "id": "c259c2b4",
   "metadata": {},
   "source": [
    "#### 9.3.1 plot precision-recall curve"
   ]
  },
  {
   "cell_type": "code",
   "execution_count": null,
   "id": "c22907d7",
   "metadata": {
    "scrolled": true
   },
   "outputs": [],
   "source": [
    "y_pred_prob_rf_best = model_rf_best.predict_proba(X_test)\n",
    "# Compute precision and recall\n",
    "precision_rf_best, recall_rf_best, thresholds_rf_best = precision_recall_curve(y_test, y_pred_prob_rf_best[:,1])\n",
    "auprc_rf_best = average_precision_score(y_test, y_pred_prob_rf_best[:,1])\n",
    "\n",
    "# Plot precision-recall curve\n",
    "plt.plot(recall, precision, label='Decision Tree', color='r')\n",
    "plt.plot(recall_rf, precision_rf, label='Random Forest', color='b')\n",
    "plt.plot(recall_rf_best, precision_rf_best, label='Random Forest + More Features', color='g')\n",
    "plt.xlabel('Recall')\n",
    "plt.ylabel('Precision')\n",
    "plt.title(f'PR Curve\\n(AUPRC_DT={round(auprc, 4)}, AUPRC_RF={round(auprc_rf, 4)}, AUPRC_RF_BEST={round(auprc_rf_best, 4)})')\n",
    "plt.legend()\n",
    "plt.grid(True)"
   ]
  },
  {
   "cell_type": "markdown",
   "id": "5151c575",
   "metadata": {},
   "source": [
    "###  9.4 Model interpretability"
   ]
  },
  {
   "cell_type": "code",
   "execution_count": null,
   "id": "fbcd38aa",
   "metadata": {},
   "outputs": [],
   "source": [
    "plt.figure(figsize=(10,10))\n",
    "\n",
    "sorted_features = sorted(zip(model.feature_names_in_, model.feature_importances_), key=lambda c: abs(c[1]))\n",
    "sorted_names, sorted_imp = zip(*sorted_features)\n",
    "\n",
    "plt.barh(range(len(sorted_imp)), sorted_imp, align='center')\n",
    "for i, v in enumerate(sorted_imp):\n",
    "    plt.text(v, i, str(round(v, 2)), va='center')\n",
    "plt.yticks(range(len(sorted_imp)), sorted_names)\n",
    "plt.xlabel('Feature Importance')\n",
    "plt.ylabel('Feature Names')\n",
    "plt.title('Feature Importance')\n",
    "\n",
    "plt.show()"
   ]
  },
  {
   "cell_type": "code",
   "execution_count": null,
   "id": "96f11dbb",
   "metadata": {
    "scrolled": true
   },
   "outputs": [],
   "source": [
    "model_rf_best.estimators_"
   ]
  },
  {
   "cell_type": "code",
   "execution_count": null,
   "id": "eb007d0c",
   "metadata": {
    "scrolled": false
   },
   "outputs": [],
   "source": [
    "plt.figure(figsize=(30, 30))\n",
    "tree.plot_tree(model_rf_best.estimators_[0], feature_names=model_rf_best.feature_names_in_,  \n",
    "                   class_names=[\"genuine\", \"fraud\"],\n",
    "                   filled=True, rounded=True, fontsize=18);"
   ]
  },
  {
   "cell_type": "markdown",
   "id": "c61a0e7a",
   "metadata": {},
   "source": [
    "### 9.5 Finding optimal model threshold"
   ]
  },
  {
   "cell_type": "markdown",
   "id": "6eb214d3",
   "metadata": {},
   "source": [
    "#### 9.5.1 find recall and equivalent threshold at minimum 90% precision"
   ]
  },
  {
   "cell_type": "code",
   "execution_count": null,
   "id": "2a481c5d",
   "metadata": {},
   "outputs": [],
   "source": [
    "for i, p in enumerate(precision_rf_best):\n",
    "    if p >= 0.9:\n",
    "        break\n",
    "# in case we land on a vertical line on PR curve, we can decrease the threshold further to increase precision at the same recall\n",
    "for j, r in enumerate(recall_rf_best):\n",
    "    if r < recall_rf_best[i]:\n",
    "        print(f\"precision={precision_rf_best[j-1]}, recall={recall_rf_best[j-1]}, at threshold={thresholds_rf_best[j-1]}\")\n",
    "        break\n",
    "threshold_rf_best = thresholds_rf_best[j-1]"
   ]
  },
  {
   "cell_type": "markdown",
   "id": "f39ebf63",
   "metadata": {},
   "source": [
    "#### 9.5.2 visualize optimal threshold point on PR curve"
   ]
  },
  {
   "cell_type": "code",
   "execution_count": null,
   "id": "89d77791",
   "metadata": {},
   "outputs": [],
   "source": [
    "plt.plot(recall_rf_best, precision_rf_best, label='Precision-Recall Curve', color='g')\n",
    "plt.xlabel('Recall')\n",
    "plt.ylabel('Precision')\n",
    "plt.title('Precision-Recall Curve')\n",
    "plt.legend()\n",
    "plt.grid(True)\n",
    "plt.plot(recall_rf_best[j-1], precision_rf_best[j-1], marker='o', markersize=5, color=\"red\");"
   ]
  },
  {
   "cell_type": "markdown",
   "id": "0ee4ef36",
   "metadata": {},
   "source": [
    "## 10. Model deployment"
   ]
  },
  {
   "cell_type": "markdown",
   "id": "c35ae5e3",
   "metadata": {},
   "source": [
    "### 10.1 Save model"
   ]
  },
  {
   "cell_type": "code",
   "execution_count": null,
   "id": "bfdd2519",
   "metadata": {
    "scrolled": true
   },
   "outputs": [],
   "source": [
    "# Save the trained model\n",
    "model_artifact = {\n",
    "    \"ordered_columns\": columns_to_select,\n",
    "    \"rf_model\": model_rf_best, \n",
    "    \"rf_model_threshold\": threshold_rf_best\n",
    "}\n",
    "joblib.dump(model_artifact, \"model.joblib\")"
   ]
  },
  {
   "cell_type": "markdown",
   "id": "97845db9",
   "metadata": {},
   "source": [
    "### 10.2 generate input payload from test data for model inference"
   ]
  },
  {
   "cell_type": "code",
   "execution_count": null,
   "id": "c9f90875",
   "metadata": {},
   "outputs": [],
   "source": [
    "df_payload = pd.read_csv(\"./PS_20174392719_1491204439457_log.csv\")\n",
    "df_payload.iloc[-1]"
   ]
  },
  {
   "cell_type": "code",
   "execution_count": null,
   "id": "47306e71",
   "metadata": {},
   "outputs": [],
   "source": [
    "json_payload = df_payload.iloc[-1][[c for c in df_payload.columns if 'Fraud' not in c]].to_dict()\n",
    "json_payload"
   ]
  },
  {
   "cell_type": "code",
   "execution_count": null,
   "id": "23be8310",
   "metadata": {},
   "outputs": [],
   "source": [
    "with open(\"./test_payload.json\", \"w\") as f:\n",
    "    json.dump(json_payload, f)"
   ]
  },
  {
   "cell_type": "code",
   "execution_count": null,
   "id": "6f7e197e",
   "metadata": {},
   "outputs": [],
   "source": []
  }
 ],
 "metadata": {
  "kernelspec": {
   "display_name": "Python 3",
   "language": "python",
   "name": "python3"
  },
  "language_info": {
   "codemirror_mode": {
    "name": "ipython",
    "version": 3
   },
   "file_extension": ".py",
   "mimetype": "text/x-python",
   "name": "python",
   "nbconvert_exporter": "python",
   "pygments_lexer": "ipython3",
   "version": "3.8.8"
  }
 },
 "nbformat": 4,
 "nbformat_minor": 5
}
